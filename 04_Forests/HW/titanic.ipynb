{
 "cells": [
  {
   "cell_type": "code",
   "execution_count": 24,
   "metadata": {},
   "outputs": [],
   "source": [
    "import pandas as pd\n",
    "import numpy as np\n",
    "import seaborn as sns\n",
    "import matplotlib.pyplot as plt "
   ]
  },
  {
   "cell_type": "markdown",
   "metadata": {},
   "source": [
    "Посомтри на датасет титаника"
   ]
  },
  {
   "cell_type": "code",
   "execution_count": 6,
   "metadata": {},
   "outputs": [],
   "source": [
    "id_surv = pd.read_csv('data/gender_submission.csv')"
   ]
  },
  {
   "cell_type": "code",
   "execution_count": 7,
   "metadata": {},
   "outputs": [
    {
     "data": {
      "text/html": [
       "<div>\n",
       "<style scoped>\n",
       "    .dataframe tbody tr th:only-of-type {\n",
       "        vertical-align: middle;\n",
       "    }\n",
       "\n",
       "    .dataframe tbody tr th {\n",
       "        vertical-align: top;\n",
       "    }\n",
       "\n",
       "    .dataframe thead th {\n",
       "        text-align: right;\n",
       "    }\n",
       "</style>\n",
       "<table border=\"1\" class=\"dataframe\">\n",
       "  <thead>\n",
       "    <tr style=\"text-align: right;\">\n",
       "      <th></th>\n",
       "      <th>PassengerId</th>\n",
       "      <th>Survived</th>\n",
       "    </tr>\n",
       "  </thead>\n",
       "  <tbody>\n",
       "    <tr>\n",
       "      <th>0</th>\n",
       "      <td>892</td>\n",
       "      <td>0</td>\n",
       "    </tr>\n",
       "    <tr>\n",
       "      <th>1</th>\n",
       "      <td>893</td>\n",
       "      <td>1</td>\n",
       "    </tr>\n",
       "    <tr>\n",
       "      <th>2</th>\n",
       "      <td>894</td>\n",
       "      <td>0</td>\n",
       "    </tr>\n",
       "    <tr>\n",
       "      <th>3</th>\n",
       "      <td>895</td>\n",
       "      <td>0</td>\n",
       "    </tr>\n",
       "    <tr>\n",
       "      <th>4</th>\n",
       "      <td>896</td>\n",
       "      <td>1</td>\n",
       "    </tr>\n",
       "  </tbody>\n",
       "</table>\n",
       "</div>"
      ],
      "text/plain": [
       "   PassengerId  Survived\n",
       "0          892         0\n",
       "1          893         1\n",
       "2          894         0\n",
       "3          895         0\n",
       "4          896         1"
      ]
     },
     "execution_count": 7,
     "metadata": {},
     "output_type": "execute_result"
    }
   ],
   "source": [
    "id_surv.head()"
   ]
  },
  {
   "cell_type": "code",
   "execution_count": 9,
   "metadata": {},
   "outputs": [],
   "source": [
    "train_data = pd.read_csv('data/train.csv')"
   ]
  },
  {
   "cell_type": "code",
   "execution_count": 26,
   "metadata": {},
   "outputs": [
    {
     "data": {
      "text/html": [
       "<div>\n",
       "<style scoped>\n",
       "    .dataframe tbody tr th:only-of-type {\n",
       "        vertical-align: middle;\n",
       "    }\n",
       "\n",
       "    .dataframe tbody tr th {\n",
       "        vertical-align: top;\n",
       "    }\n",
       "\n",
       "    .dataframe thead th {\n",
       "        text-align: right;\n",
       "    }\n",
       "</style>\n",
       "<table border=\"1\" class=\"dataframe\">\n",
       "  <thead>\n",
       "    <tr style=\"text-align: right;\">\n",
       "      <th></th>\n",
       "      <th>PassengerId</th>\n",
       "      <th>Survived</th>\n",
       "      <th>Pclass</th>\n",
       "      <th>Name</th>\n",
       "      <th>Sex</th>\n",
       "      <th>Age</th>\n",
       "      <th>SibSp</th>\n",
       "      <th>Parch</th>\n",
       "      <th>Ticket</th>\n",
       "      <th>Fare</th>\n",
       "      <th>Cabin</th>\n",
       "      <th>Embarked</th>\n",
       "    </tr>\n",
       "  </thead>\n",
       "  <tbody>\n",
       "    <tr>\n",
       "      <th>0</th>\n",
       "      <td>1</td>\n",
       "      <td>0</td>\n",
       "      <td>3</td>\n",
       "      <td>Braund, Mr. Owen Harris</td>\n",
       "      <td>male</td>\n",
       "      <td>22.0</td>\n",
       "      <td>1</td>\n",
       "      <td>0</td>\n",
       "      <td>A/5 21171</td>\n",
       "      <td>7.2500</td>\n",
       "      <td>NaN</td>\n",
       "      <td>S</td>\n",
       "    </tr>\n",
       "    <tr>\n",
       "      <th>1</th>\n",
       "      <td>2</td>\n",
       "      <td>1</td>\n",
       "      <td>1</td>\n",
       "      <td>Cumings, Mrs. John Bradley (Florence Briggs Th...</td>\n",
       "      <td>female</td>\n",
       "      <td>38.0</td>\n",
       "      <td>1</td>\n",
       "      <td>0</td>\n",
       "      <td>PC 17599</td>\n",
       "      <td>71.2833</td>\n",
       "      <td>C85</td>\n",
       "      <td>C</td>\n",
       "    </tr>\n",
       "    <tr>\n",
       "      <th>2</th>\n",
       "      <td>3</td>\n",
       "      <td>1</td>\n",
       "      <td>3</td>\n",
       "      <td>Heikkinen, Miss. Laina</td>\n",
       "      <td>female</td>\n",
       "      <td>26.0</td>\n",
       "      <td>0</td>\n",
       "      <td>0</td>\n",
       "      <td>STON/O2. 3101282</td>\n",
       "      <td>7.9250</td>\n",
       "      <td>NaN</td>\n",
       "      <td>S</td>\n",
       "    </tr>\n",
       "    <tr>\n",
       "      <th>3</th>\n",
       "      <td>4</td>\n",
       "      <td>1</td>\n",
       "      <td>1</td>\n",
       "      <td>Futrelle, Mrs. Jacques Heath (Lily May Peel)</td>\n",
       "      <td>female</td>\n",
       "      <td>35.0</td>\n",
       "      <td>1</td>\n",
       "      <td>0</td>\n",
       "      <td>113803</td>\n",
       "      <td>53.1000</td>\n",
       "      <td>C123</td>\n",
       "      <td>S</td>\n",
       "    </tr>\n",
       "    <tr>\n",
       "      <th>4</th>\n",
       "      <td>5</td>\n",
       "      <td>0</td>\n",
       "      <td>3</td>\n",
       "      <td>Allen, Mr. William Henry</td>\n",
       "      <td>male</td>\n",
       "      <td>35.0</td>\n",
       "      <td>0</td>\n",
       "      <td>0</td>\n",
       "      <td>373450</td>\n",
       "      <td>8.0500</td>\n",
       "      <td>NaN</td>\n",
       "      <td>S</td>\n",
       "    </tr>\n",
       "  </tbody>\n",
       "</table>\n",
       "</div>"
      ],
      "text/plain": [
       "   PassengerId  Survived  Pclass  \\\n",
       "0            1         0       3   \n",
       "1            2         1       1   \n",
       "2            3         1       3   \n",
       "3            4         1       1   \n",
       "4            5         0       3   \n",
       "\n",
       "                                                Name     Sex   Age  SibSp  \\\n",
       "0                            Braund, Mr. Owen Harris    male  22.0      1   \n",
       "1  Cumings, Mrs. John Bradley (Florence Briggs Th...  female  38.0      1   \n",
       "2                             Heikkinen, Miss. Laina  female  26.0      0   \n",
       "3       Futrelle, Mrs. Jacques Heath (Lily May Peel)  female  35.0      1   \n",
       "4                           Allen, Mr. William Henry    male  35.0      0   \n",
       "\n",
       "   Parch            Ticket     Fare Cabin Embarked  \n",
       "0      0         A/5 21171   7.2500   NaN        S  \n",
       "1      0          PC 17599  71.2833   C85        C  \n",
       "2      0  STON/O2. 3101282   7.9250   NaN        S  \n",
       "3      0            113803  53.1000  C123        S  \n",
       "4      0            373450   8.0500   NaN        S  "
      ]
     },
     "execution_count": 26,
     "metadata": {},
     "output_type": "execute_result"
    }
   ],
   "source": [
    "pd.options.display.max_columns = 60\n",
    "train_data.head()"
   ]
  },
  {
   "cell_type": "code",
   "execution_count": 13,
   "metadata": {},
   "outputs": [
    {
     "data": {
      "text/plain": [
       "(891, 12)"
      ]
     },
     "execution_count": 13,
     "metadata": {},
     "output_type": "execute_result"
    }
   ],
   "source": [
    "train_data.shape"
   ]
  },
  {
   "cell_type": "code",
   "execution_count": 12,
   "metadata": {},
   "outputs": [
    {
     "data": {
      "text/html": [
       "<div>\n",
       "<style scoped>\n",
       "    .dataframe tbody tr th:only-of-type {\n",
       "        vertical-align: middle;\n",
       "    }\n",
       "\n",
       "    .dataframe tbody tr th {\n",
       "        vertical-align: top;\n",
       "    }\n",
       "\n",
       "    .dataframe thead th {\n",
       "        text-align: right;\n",
       "    }\n",
       "</style>\n",
       "<table border=\"1\" class=\"dataframe\">\n",
       "  <thead>\n",
       "    <tr style=\"text-align: right;\">\n",
       "      <th></th>\n",
       "      <th>PassengerId</th>\n",
       "      <th>Survived</th>\n",
       "      <th>Pclass</th>\n",
       "      <th>Age</th>\n",
       "      <th>SibSp</th>\n",
       "      <th>Parch</th>\n",
       "      <th>Fare</th>\n",
       "    </tr>\n",
       "  </thead>\n",
       "  <tbody>\n",
       "    <tr>\n",
       "      <th>count</th>\n",
       "      <td>891.000000</td>\n",
       "      <td>891.000000</td>\n",
       "      <td>891.000000</td>\n",
       "      <td>714.000000</td>\n",
       "      <td>891.000000</td>\n",
       "      <td>891.000000</td>\n",
       "      <td>891.000000</td>\n",
       "    </tr>\n",
       "    <tr>\n",
       "      <th>mean</th>\n",
       "      <td>446.000000</td>\n",
       "      <td>0.383838</td>\n",
       "      <td>2.308642</td>\n",
       "      <td>29.699118</td>\n",
       "      <td>0.523008</td>\n",
       "      <td>0.381594</td>\n",
       "      <td>32.204208</td>\n",
       "    </tr>\n",
       "    <tr>\n",
       "      <th>std</th>\n",
       "      <td>257.353842</td>\n",
       "      <td>0.486592</td>\n",
       "      <td>0.836071</td>\n",
       "      <td>14.526497</td>\n",
       "      <td>1.102743</td>\n",
       "      <td>0.806057</td>\n",
       "      <td>49.693429</td>\n",
       "    </tr>\n",
       "    <tr>\n",
       "      <th>min</th>\n",
       "      <td>1.000000</td>\n",
       "      <td>0.000000</td>\n",
       "      <td>1.000000</td>\n",
       "      <td>0.420000</td>\n",
       "      <td>0.000000</td>\n",
       "      <td>0.000000</td>\n",
       "      <td>0.000000</td>\n",
       "    </tr>\n",
       "    <tr>\n",
       "      <th>25%</th>\n",
       "      <td>223.500000</td>\n",
       "      <td>0.000000</td>\n",
       "      <td>2.000000</td>\n",
       "      <td>20.125000</td>\n",
       "      <td>0.000000</td>\n",
       "      <td>0.000000</td>\n",
       "      <td>7.910400</td>\n",
       "    </tr>\n",
       "    <tr>\n",
       "      <th>50%</th>\n",
       "      <td>446.000000</td>\n",
       "      <td>0.000000</td>\n",
       "      <td>3.000000</td>\n",
       "      <td>28.000000</td>\n",
       "      <td>0.000000</td>\n",
       "      <td>0.000000</td>\n",
       "      <td>14.454200</td>\n",
       "    </tr>\n",
       "    <tr>\n",
       "      <th>75%</th>\n",
       "      <td>668.500000</td>\n",
       "      <td>1.000000</td>\n",
       "      <td>3.000000</td>\n",
       "      <td>38.000000</td>\n",
       "      <td>1.000000</td>\n",
       "      <td>0.000000</td>\n",
       "      <td>31.000000</td>\n",
       "    </tr>\n",
       "    <tr>\n",
       "      <th>max</th>\n",
       "      <td>891.000000</td>\n",
       "      <td>1.000000</td>\n",
       "      <td>3.000000</td>\n",
       "      <td>80.000000</td>\n",
       "      <td>8.000000</td>\n",
       "      <td>6.000000</td>\n",
       "      <td>512.329200</td>\n",
       "    </tr>\n",
       "  </tbody>\n",
       "</table>\n",
       "</div>"
      ],
      "text/plain": [
       "       PassengerId    Survived      Pclass         Age       SibSp  \\\n",
       "count   891.000000  891.000000  891.000000  714.000000  891.000000   \n",
       "mean    446.000000    0.383838    2.308642   29.699118    0.523008   \n",
       "std     257.353842    0.486592    0.836071   14.526497    1.102743   \n",
       "min       1.000000    0.000000    1.000000    0.420000    0.000000   \n",
       "25%     223.500000    0.000000    2.000000   20.125000    0.000000   \n",
       "50%     446.000000    0.000000    3.000000   28.000000    0.000000   \n",
       "75%     668.500000    1.000000    3.000000   38.000000    1.000000   \n",
       "max     891.000000    1.000000    3.000000   80.000000    8.000000   \n",
       "\n",
       "            Parch        Fare  \n",
       "count  891.000000  891.000000  \n",
       "mean     0.381594   32.204208  \n",
       "std      0.806057   49.693429  \n",
       "min      0.000000    0.000000  \n",
       "25%      0.000000    7.910400  \n",
       "50%      0.000000   14.454200  \n",
       "75%      0.000000   31.000000  \n",
       "max      6.000000  512.329200  "
      ]
     },
     "execution_count": 12,
     "metadata": {},
     "output_type": "execute_result"
    }
   ],
   "source": [
    "train_data.describe()"
   ]
  },
  {
   "cell_type": "code",
   "execution_count": 15,
   "metadata": {},
   "outputs": [
    {
     "data": {
      "text/plain": [
       "681"
      ]
     },
     "execution_count": 15,
     "metadata": {},
     "output_type": "execute_result"
    }
   ],
   "source": [
    "len(set(train_data['Ticket']))"
   ]
  },
  {
   "cell_type": "code",
   "execution_count": 18,
   "metadata": {},
   "outputs": [
    {
     "data": {
      "text/plain": [
       "148"
      ]
     },
     "execution_count": 18,
     "metadata": {},
     "output_type": "execute_result"
    }
   ],
   "source": [
    "len(set(train_data['Cabin']))"
   ]
  },
  {
   "cell_type": "code",
   "execution_count": 28,
   "metadata": {},
   "outputs": [
    {
     "data": {
      "text/plain": [
       "{'C', 'Q', 'S', nan}"
      ]
     },
     "execution_count": 28,
     "metadata": {},
     "output_type": "execute_result"
    }
   ],
   "source": [
    "set(train_data['Embarked'])"
   ]
  },
  {
   "cell_type": "code",
   "execution_count": 20,
   "metadata": {},
   "outputs": [
    {
     "data": {
      "text/plain": [
       "PassengerId      0\n",
       "Survived         0\n",
       "Pclass           0\n",
       "Name             0\n",
       "Sex              0\n",
       "Age            177\n",
       "SibSp            0\n",
       "Parch            0\n",
       "Ticket           0\n",
       "Fare             0\n",
       "Cabin          687\n",
       "Embarked         2\n",
       "dtype: int64"
      ]
     },
     "execution_count": 20,
     "metadata": {},
     "output_type": "execute_result"
    }
   ],
   "source": [
    "train_data.isna().sum(axis=0)"
   ]
  },
  {
   "cell_type": "markdown",
   "metadata": {},
   "source": [
    "Колонки `Cabin`, `Ticket` слишком разнообразны, почти уникальны. Избавимся от них и ещё от имени.\n",
    "\n",
    "Много пропущеных значений. Т.к. мы предполагаем использование случайных лесов, то заменить пропуски имеет смысл на среднее.\n",
    "\n",
    "Ещё нужно перекодировать категориальные признаки, например чтобы `sns.pairplot` достойно строился"
   ]
  },
  {
   "cell_type": "code",
   "execution_count": 66,
   "metadata": {},
   "outputs": [],
   "source": [
    "def preprocess(df: pd.DataFrame()) -> pd.DataFrame():\n",
    "    out = df.copy()\n",
    "    out.drop(columns=['PassengerId', 'Name', 'Ticket', 'Cabin'], inplace=True)\n",
    "    \n",
    "    cleanup_sex = {\"Sex\": {\"male\": 1, \"female\": 0}}\n",
    "    out.replace(cleanup_sex, inplace=True)\n",
    "    \n",
    "    # порт в котором cltkftv lfvvb rjlbhjdrjq\n",
    "    out = pd.get_dummies(out, columns=[\"Embarked\"])\n",
    "    \n",
    "    out['Age'].fillna((out['Age'].mean()), inplace=True)\n",
    "    return out"
   ]
  },
  {
   "cell_type": "code",
   "execution_count": 67,
   "metadata": {},
   "outputs": [],
   "source": [
    "train_data_1 = preprocess(train_data)"
   ]
  },
  {
   "cell_type": "markdown",
   "metadata": {},
   "source": [
    "Попробуем визуализировать"
   ]
  },
  {
   "cell_type": "code",
   "execution_count": 68,
   "metadata": {},
   "outputs": [
    {
     "data": {
      "image/png": "[encoded data removed]",
      "text/plain": [
       "<Figure size 1800x1800 with 110 Axes>"
      ]
     },
     "metadata": {
      "needs_background": "light"
     },
     "output_type": "display_data"
    }
   ],
   "source": [
    "sns.pairplot(train_data_1)\n",
    "plt.show()"
   ]
  },
  {
   "cell_type": "markdown",
   "metadata": {},
   "source": [
    "Особо ничего не видно"
   ]
  },
  {
   "cell_type": "code",
   "execution_count": 69,
   "metadata": {
    "scrolled": false
   },
   "outputs": [
    {
     "data": {
      "image/png": "[encoded data removed]",
      "text/plain": [
       "<Figure size 360x360 with 1 Axes>"
      ]
     },
     "metadata": {
      "needs_background": "light"
     },
     "output_type": "display_data"
    },
    {
     "data": {
      "image/png": "[encoded data removed]",
      "text/plain": [
       "<Figure size 360x360 with 1 Axes>"
      ]
     },
     "metadata": {
      "needs_background": "light"
     },
     "output_type": "display_data"
    },
    {
     "data": {
      "image/png": "[encoded data removed]",
      "text/plain": [
       "<Figure size 360x360 with 1 Axes>"
      ]
     },
     "metadata": {
      "needs_background": "light"
     },
     "output_type": "display_data"
    },
    {
     "data": {
      "image/png": "[encoded data removed]",
      "text/plain": [
       "<Figure size 360x360 with 1 Axes>"
      ]
     },
     "metadata": {
      "needs_background": "light"
     },
     "output_type": "display_data"
    },
    {
     "data": {
      "image/png": "[encoded data removed]",
      "text/plain": [
       "<Figure size 360x360 with 1 Axes>"
      ]
     },
     "metadata": {
      "needs_background": "light"
     },
     "output_type": "display_data"
    },
    {
     "data": {
      "image/png": "[encoded data removed]",
      "text/plain": [
       "<Figure size 360x360 with 1 Axes>"
      ]
     },
     "metadata": {
      "needs_background": "light"
     },
     "output_type": "display_data"
    },
    {
     "data": {
      "image/png": "[encoded data removed]",
      "text/plain": [
       "<Figure size 360x360 with 1 Axes>"
      ]
     },
     "metadata": {
      "needs_background": "light"
     },
     "output_type": "display_data"
    }
   ],
   "source": [
    "for c in train_data_1.drop(columns=['Survived', 'Age', 'Fare']).columns.values:\n",
    "    sns.catplot(x=c, y='Survived', data=train_data_1, kind='bar').set_ylabels(\"Survived\")\n",
    "    plt.show()"
   ]
  },
  {
   "cell_type": "markdown",
   "metadata": {},
   "source": [
    "Ну, тут видно, что пол и класс каюты наиболее важны. Отдельно глянем на возраст"
   ]
  },
  {
   "cell_type": "code",
   "execution_count": 70,
   "metadata": {},
   "outputs": [
    {
     "data": {
      "image/png": "[encoded data removed]",
      "text/plain": [
       "<Figure size 432x288 with 1 Axes>"
      ]
     },
     "metadata": {
      "needs_background": "light"
     },
     "output_type": "display_data"
    }
   ],
   "source": [
    "plt.hist(train_data_1['Age'], bins=20, density=True)\n",
    "plt.show()"
   ]
  },
  {
   "cell_type": "markdown",
   "metadata": {},
   "source": [
    "Выживали самые сильные и груднички\n",
    "\n",
    "Ну всё, давайте fit, predict, оценим метрики и подомам"
   ]
  },
  {
   "cell_type": "code",
   "execution_count": 71,
   "metadata": {},
   "outputs": [],
   "source": [
    "from sklearn.ensemble import RandomForestClassifier\n",
    "from sklearn.model_selection import train_test_split"
   ]
  },
  {
   "cell_type": "code",
   "execution_count": 72,
   "metadata": {},
   "outputs": [
    {
     "data": {
      "text/html": [
       "<div>\n",
       "<style scoped>\n",
       "    .dataframe tbody tr th:only-of-type {\n",
       "        vertical-align: middle;\n",
       "    }\n",
       "\n",
       "    .dataframe tbody tr th {\n",
       "        vertical-align: top;\n",
       "    }\n",
       "\n",
       "    .dataframe thead th {\n",
       "        text-align: right;\n",
       "    }\n",
       "</style>\n",
       "<table border=\"1\" class=\"dataframe\">\n",
       "  <thead>\n",
       "    <tr style=\"text-align: right;\">\n",
       "      <th></th>\n",
       "      <th>Survived</th>\n",
       "      <th>Pclass</th>\n",
       "      <th>Sex</th>\n",
       "      <th>Age</th>\n",
       "      <th>SibSp</th>\n",
       "      <th>Parch</th>\n",
       "      <th>Fare</th>\n",
       "      <th>Embarked_C</th>\n",
       "      <th>Embarked_Q</th>\n",
       "      <th>Embarked_S</th>\n",
       "    </tr>\n",
       "  </thead>\n",
       "  <tbody>\n",
       "    <tr>\n",
       "      <th>0</th>\n",
       "      <td>0</td>\n",
       "      <td>3</td>\n",
       "      <td>1</td>\n",
       "      <td>22.0</td>\n",
       "      <td>1</td>\n",
       "      <td>0</td>\n",
       "      <td>7.2500</td>\n",
       "      <td>0</td>\n",
       "      <td>0</td>\n",
       "      <td>1</td>\n",
       "    </tr>\n",
       "    <tr>\n",
       "      <th>1</th>\n",
       "      <td>1</td>\n",
       "      <td>1</td>\n",
       "      <td>0</td>\n",
       "      <td>38.0</td>\n",
       "      <td>1</td>\n",
       "      <td>0</td>\n",
       "      <td>71.2833</td>\n",
       "      <td>1</td>\n",
       "      <td>0</td>\n",
       "      <td>0</td>\n",
       "    </tr>\n",
       "    <tr>\n",
       "      <th>2</th>\n",
       "      <td>1</td>\n",
       "      <td>3</td>\n",
       "      <td>0</td>\n",
       "      <td>26.0</td>\n",
       "      <td>0</td>\n",
       "      <td>0</td>\n",
       "      <td>7.9250</td>\n",
       "      <td>0</td>\n",
       "      <td>0</td>\n",
       "      <td>1</td>\n",
       "    </tr>\n",
       "    <tr>\n",
       "      <th>3</th>\n",
       "      <td>1</td>\n",
       "      <td>1</td>\n",
       "      <td>0</td>\n",
       "      <td>35.0</td>\n",
       "      <td>1</td>\n",
       "      <td>0</td>\n",
       "      <td>53.1000</td>\n",
       "      <td>0</td>\n",
       "      <td>0</td>\n",
       "      <td>1</td>\n",
       "    </tr>\n",
       "    <tr>\n",
       "      <th>4</th>\n",
       "      <td>0</td>\n",
       "      <td>3</td>\n",
       "      <td>1</td>\n",
       "      <td>35.0</td>\n",
       "      <td>0</td>\n",
       "      <td>0</td>\n",
       "      <td>8.0500</td>\n",
       "      <td>0</td>\n",
       "      <td>0</td>\n",
       "      <td>1</td>\n",
       "    </tr>\n",
       "  </tbody>\n",
       "</table>\n",
       "</div>"
      ],
      "text/plain": [
       "   Survived  Pclass  Sex   Age  SibSp  Parch     Fare  Embarked_C  Embarked_Q  \\\n",
       "0         0       3    1  22.0      1      0   7.2500           0           0   \n",
       "1         1       1    0  38.0      1      0  71.2833           1           0   \n",
       "2         1       3    0  26.0      0      0   7.9250           0           0   \n",
       "3         1       1    0  35.0      1      0  53.1000           0           0   \n",
       "4         0       3    1  35.0      0      0   8.0500           0           0   \n",
       "\n",
       "   Embarked_S  \n",
       "0           1  \n",
       "1           0  \n",
       "2           1  \n",
       "3           1  \n",
       "4           1  "
      ]
     },
     "execution_count": 72,
     "metadata": {},
     "output_type": "execute_result"
    }
   ],
   "source": [
    "train_data_1.head()"
   ]
  },
  {
   "cell_type": "code",
   "execution_count": 97,
   "metadata": {},
   "outputs": [],
   "source": [
    "model = RandomForestClassifier(n_estimators=100, max_depth=7, random_state=42)\n",
    "\n",
    "x = train_data_1.drop(columns=['Survived'])\n",
    "y = train_data_1['Survived']\n",
    "\n",
    "x_train, x_test, y_train, y_test = train_test_split(x, y, test_size=0.2, random_state=42)\n",
    "\n",
    "model.fit(x_train, y_train)\n",
    "y_test_hat = model.predict(x_test)\n",
    "y_train_hat = model.predict(x_train)"
   ]
  },
  {
   "cell_type": "code",
   "execution_count": 77,
   "metadata": {},
   "outputs": [],
   "source": [
    "from sklearn.metrics import precision_recall_fscore_support"
   ]
  },
  {
   "cell_type": "code",
   "execution_count": 98,
   "metadata": {},
   "outputs": [
    {
     "name": "stdout",
     "output_type": "stream",
     "text": [
      "Test\n",
      "\tprecision=0.84\n",
      "\trecall   =0.70\n",
      "\tf1       =0.76\n",
      "Train\n",
      "\tprecision=0.95\n",
      "\trecall   =0.75\n",
      "\tf1       =0.84\n"
     ]
    }
   ],
   "source": [
    "pr, rec, f1, _ = precision_recall_fscore_support(y_test, y_test_hat, average='binary')\n",
    "print(f'Test\\n\\tprecision={pr:.2f}\\n\\trecall   ={rec:.2f}\\n\\tf1       ={f1:.2f}')\n",
    "pr, rec, f1, _ = precision_recall_fscore_support(y_train, y_train_hat, average='binary')\n",
    "print(f'Train\\n\\tprecision={pr:.2f}\\n\\trecall   ={rec:.2f}\\n\\tf1       ={f1:.2f}')"
   ]
  },
  {
   "cell_type": "markdown",
   "metadata": {},
   "source": [
    "Вроде нормально\n",
    "\n",
    "Посмотрим как `f1` зависит от глубины и числа деревьев"
   ]
  },
  {
   "cell_type": "code",
   "execution_count": 132,
   "metadata": {},
   "outputs": [],
   "source": [
    "import plotly.graph_objects as go\n",
    "from sklearn.model_selection import cross_validate\n",
    "from sklearn.metrics import f1_score, make_scorer"
   ]
  },
  {
   "cell_type": "code",
   "execution_count": 135,
   "metadata": {},
   "outputs": [],
   "source": [
    "scores = cross_validate(model, x, y, cv=3, scoring=make_scorer(f1_score), return_train_score=True)"
   ]
  },
  {
   "cell_type": "code",
   "execution_count": 138,
   "metadata": {},
   "outputs": [
    {
     "data": {
      "text/plain": [
       "array([0.61428571, 0.76821192, 0.7027027 , 0.71523179])"
      ]
     },
     "execution_count": 138,
     "metadata": {},
     "output_type": "execute_result"
    }
   ],
   "source": [
    "scores['test_score']"
   ]
  },
  {
   "cell_type": "code",
   "execution_count": 147,
   "metadata": {},
   "outputs": [
    {
     "name": "stdout",
     "output_type": "stream",
     "text": [
      "depth 30 / 30\r"
     ]
    }
   ],
   "source": [
    "n_estims = np.linspace(5, 200, num=30, dtype=int)\n",
    "depths = np.linspace(3, 45, num=30, dtype=int)\n",
    "f1_test_scores = np.zeros((len(depths), len(n_estims)))\n",
    "f1_train_scores = np.zeros((len(depths), len(n_estims)))\n",
    "for _id_d, d in enumerate(depths):\n",
    "    print(f'depth {_id_d+1} / {len(depths)}', end='\\r')\n",
    "    for _id_n, n_est in enumerate(n_estims):\n",
    "        model = RandomForestClassifier(n_estimators=n_est, max_depth=d, random_state=42)\n",
    "        scores = cross_validate(model, x, y, cv=5, scoring=make_scorer(f1_score), return_train_score=True)\n",
    "        f1_test_scores[_id_d, _id_n] = scores['test_score'].mean()\n",
    "        f1_train_scores[_id_d, _id_n] = scores['train_score'].mean()"
   ]
  },
  {
   "cell_type": "code",
   "execution_count": 157,
   "metadata": {},
   "outputs": [
    {
     "data": {
      "application/vnd.plotly.v1+json": {
       "config": {
        "plotlyServerURL": "https://plot.ly"
       },
       "data": [
        {
         "type": "surface",
         "x": [
          3,
          4,
          5,
          7,
          8,
          10,
          11,
          13,
          14,
          16,
          17,
          18,
          20,
          21,
          23,
          24,
          26,
          27,
          29,
          30,
          31,
          33,
          34,
          36,
          37,
          39,
          40,
          42,
          43,
          45
         ],
         "y": [
          5,
          11,
          18,
          25,
          31,
          38,
          45,
          52,
          58,
          65,
          72,
          78,
          85,
          92,
          99,
          105,
          112,
          119,
          126,
          132,
          139,
          146,
          152,
          159,
          166,
          173,
          179,
          186,
          193,
          200
         ],
         "z": [
          [
           0.7065527117157924,
           0.6999514762912332,
           0.7226662278616789,
           0.7115489907983652,
           0.7101335761991499,
           0.7058299692540335,
           0.7139131189665949,
           0.7170985866453561,
           0.7171175734316517,
           0.7172672927264033,
           0.7182412888857224,
           0.7252904636479851,
           0.7173543332901622,
           0.7218060281964026,
           0.7161858462393221,
           0.7193630822102705,
           0.714515757008963,
           0.7150610843368932,
           0.7200480350204383,
           0.7176571019355137,
           0.7138598372532933,
           0.7163495997430557,
           0.7163495997430557,
           0.7199532033466592,
           0.7223663307597867,
           0.723556806950263,
           0.7222682915441005,
           0.7196907192629117,
           0.7198105977227703,
           0.7173974703096428
          ],
          [
           0.71647385628454,
           0.7475162922576134,
           0.7456127987339737,
           0.7523471585282608,
           0.7467024690425854,
           0.7427289617486338,
           0.7365402052016226,
           0.7344166944166944,
           0.7261279751457564,
           0.7292599735299679,
           0.72811507191995,
           0.7301869313482217,
           0.726063877166631,
           0.7273074357571981,
           0.7265447466467958,
           0.7277911902181277,
           0.7294124159138958,
           0.7262323494687131,
           0.7274796335447498,
           0.7306218762482828,
           0.7307654900444274,
           0.7279672299711674,
           0.7255174242424243,
           0.7286548726863687,
           0.7307690348866819,
           0.7319118920295391,
           0.7319118920295391,
           0.7319118920295391,
           0.7342542847143244,
           0.735434457806378
          ],
          [
           0.72615052321506,
           0.7359050393507076,
           0.7477944069290251,
           0.7454992319508449,
           0.7429247092596953,
           0.7401963344455729,
           0.7417564376770075,
           0.738959048415266,
           0.7394313071231684,
           0.7387076639047698,
           0.7359124936547862,
           0.7354287003539891,
           0.7422501966955155,
           0.7429852836278047,
           0.7455443782548425,
           0.7454760031471283,
           0.744364205162789,
           0.7394924506387921,
           0.7422923457345172,
           0.7410794425087108,
           0.7374279345097599,
           0.7373561603162114,
           0.7418958300550748,
           0.7442958300550747,
           0.7431053538645985,
           0.7432029148402084,
           0.7444114980735815,
           0.7431985948477751,
           0.7444574461459655,
           0.7444574461459655
          ],
          [
           0.7396114693970315,
           0.7503797015992137,
           0.7569299542304163,
           0.7588147492017903,
           0.7478461948682363,
           0.747572122203997,
           0.7461379862968065,
           0.7463552824573612,
           0.7493881835665774,
           0.7457702543607997,
           0.7499678801019437,
           0.7510830952925097,
           0.7510335512606263,
           0.748082812515843,
           0.7505452980872166,
           0.7521460015465898,
           0.7530995926255045,
           0.7552552998215344,
           0.751837567463111,
           0.7523193045191269,
           0.7503785754344167,
           0.7472202360450636,
           0.7472202360450636,
           0.7495211247267234,
           0.7479089772645514,
           0.7454846062922995,
           0.7461720732410038,
           0.7438103597357044,
           0.7461720732410038,
           0.7421944591728528
          ],
          [
           0.7686745839699629,
           0.745735802210452,
           0.7456959133108539,
           0.7619993033786139,
           0.7640951936951936,
           0.7508736845045719,
           0.7561184247014754,
           0.7580791358700589,
           0.757516670755609,
           0.7577696106623456,
           0.7559401670481615,
           0.7604919815571604,
           0.7605492842341428,
           0.7595976745382519,
           0.7645812222022113,
           0.761994365007513,
           0.7614589422261904,
           0.7603814184824216,
           0.7572591727104481,
           0.7590634752781095,
           0.7577521718424945,
           0.7597765762368304,
           0.7565488468266415,
           0.759274497510603,
           0.7583142537639815,
           0.7584843306976092,
           0.7584843306976092,
           0.7566800281299478,
           0.7566800281299478,
           0.7566800281299478
          ],
          [
           0.7478352360659308,
           0.7484935188650358,
           0.7485723240711458,
           0.7581071245168121,
           0.7596916951661479,
           0.7489490458802656,
           0.7557495876058206,
           0.7552795783722722,
           0.7562320551025241,
           0.7527951685174307,
           0.7594934630302348,
           0.7614978933886531,
           0.7616448713187655,
           0.761826236298522,
           0.7631760561409889,
           0.7618722434098041,
           0.763432639205553,
           0.764648780720202,
           0.7671371772416011,
           0.7644555921699108,
           0.7649730569901775,
           0.7650536514685243,
           0.7661577321268516,
           0.7644555921699108,
           0.763479599102432,
           0.7647837329606997,
           0.7645105820105819,
           0.7631816057790378,
           0.7600767580879755,
           0.7635144335511983
          ],
          [
           0.7574477119595733,
           0.7476948492550761,
           0.7527868319374148,
           0.7630007985800356,
           0.7565442202655098,
           0.7516394396211803,
           0.7542588728574439,
           0.7596178653661065,
           0.7600983663352119,
           0.751854683323953,
           0.7575556640050125,
           0.7594759583466104,
           0.7602060342018098,
           0.765380741002673,
           0.7668900172209785,
           0.7687377276329779,
           0.7687870675390813,
           0.7632022512337473,
           0.7664707462289139,
           0.7658534012778665,
           0.7658534012778665,
           0.7658076256818516,
           0.7646230526790967,
           0.7639191189316847,
           0.7659705257184626,
           0.7659705257184626,
           0.7648811115355233,
           0.7649028980278981,
           0.7618508085052204,
           0.7617637520999242
          ],
          [
           0.7492195705728947,
           0.7547208487021944,
           0.7506518372898177,
           0.7566757722034981,
           0.7537494950472443,
           0.7585345820939641,
           0.7609252647890512,
           0.7597227520277092,
           0.7569445003680993,
           0.759934833800034,
           0.7659330111291687,
           0.767142755964166,
           0.7707665867239358,
           0.7650754510052674,
           0.756324889771957,
           0.7570986393405613,
           0.7578142438607195,
           0.7635978069339239,
           0.7594289663578844,
           0.7624923608058413,
           0.7671550011325509,
           0.7665646129712772,
           0.7636304179796658,
           0.7624676272819915,
           0.7634396129712772,
           0.7647924135183993,
           0.7665695837166222,
           0.7701927721224193,
           0.7701927721224193,
           0.7713692427106545
          ],
          [
           0.7442846246049907,
           0.7519240803895135,
           0.7730665031782078,
           0.7637274026643591,
           0.7649506846763778,
           0.7659129590291439,
           0.7655093905103675,
           0.764987739639433,
           0.7658448933594566,
           0.7608235381278282,
           0.7678761852056816,
           0.7658198645788801,
           0.7657354607633622,
           0.7664722343569872,
           0.7687578962885807,
           0.7639265872467453,
           0.7679769539583661,
           0.7697703018887175,
           0.7675298085690875,
           0.7646067731372506,
           0.763537913938895,
           0.7668985497036888,
           0.7680496288403794,
           0.7646726657119446,
           0.7640753045404207,
           0.7657415249103003,
           0.7634157921848432,
           0.7669807696420237,
           0.7662098714864063,
           0.7649754421294318
          ],
          [
           0.7271177794317998,
           0.7504013089179795,
           0.7544065819488346,
           0.7528378063834097,
           0.7509397781956186,
           0.7510144254836805,
           0.7563919448561374,
           0.7541782813715832,
           0.7559345922241073,
           0.7565430967995024,
           0.7633354790602758,
           0.7590179332786683,
           0.7588490221556146,
           0.7549547913863838,
           0.7592216986037095,
           0.7552538876823126,
           0.7540598578315663,
           0.7589020182840291,
           0.757023098918717,
           0.7551604817317423,
           0.7592568632133863,
           0.7604118784109547,
           0.7575547355538118,
           0.7587058146905024,
           0.7563489941420817,
           0.7540660353582391,
           0.7552538876823126,
           0.754119135909263,
           0.7563075857572873,
           0.7563075857572873
          ],
          [
           0.7269720004334546,
           0.7413671894287913,
           0.7476482730698557,
           0.7526226584650725,
           0.7391215113427295,
           0.746401147266617,
           0.7502178836103294,
           0.7563400860972485,
           0.7594055113369864,
           0.7613552073940941,
           0.760464597673808,
           0.7623634272559008,
           0.7655248417862482,
           0.7584034458776936,
           0.7584034458776936,
           0.7593119571050446,
           0.7540999522759908,
           0.7548492117644624,
           0.7538744980669174,
           0.7531727116599651,
           0.7556891500827687,
           0.7560805528730328,
           0.7539214165275709,
           0.7548644113583837,
           0.7537296595853341,
           0.7547685168423512,
           0.755903268615401,
           0.755903268615401,
           0.7524253581517236,
           0.754705011534791
          ],
          [
           0.7331627641349623,
           0.7405072444166427,
           0.7482997466301814,
           0.7625670361105868,
           0.7489294971396125,
           0.7482487536929978,
           0.7522843480805321,
           0.7531106767821096,
           0.7554422007848407,
           0.7539197156081163,
           0.7635135141087176,
           0.757923050414407,
           0.7593183894904147,
           0.7529022020560582,
           0.7562116906288943,
           0.7573627042121595,
           0.7620393765945285,
           0.7576957722561531,
           0.7583629787195882,
           0.7594644736055048,
           0.7594644736055048,
           0.7616661215601965,
           0.7606272643031792,
           0.758884344913201,
           0.7577215542155267,
           0.7576155098625261,
           0.7587604114725439,
           0.7570543477520916,
           0.7558560906714816,
           0.754705011534791
          ],
          [
           0.7292436908142244,
           0.7494685075353121,
           0.7502324543304,
           0.7604689506136029,
           0.7521660049364739,
           0.7451094584091061,
           0.7518780110563643,
           0.7492161315975185,
           0.750396661119411,
           0.7547931595393345,
           0.7583205650056618,
           0.7543208019186366,
           0.7561188240942434,
           0.7560236098611538,
           0.7592968349740659,
           0.7552438140267927,
           0.7568047991653625,
           0.7527666276122009,
           0.756070886904347,
           0.7533444314598814,
           0.7529553936489544,
           0.7595621841504172,
           0.756219015785816,
           0.7550028742711671,
           0.7527053318004429,
           0.7548644113583837,
           0.7538400835734926,
           0.7560154904950743,
           0.7536661542777738,
           0.7548172334144644
          ],
          [
           0.7287714258902037,
           0.7491931722926556,
           0.7479557053562421,
           0.7582024822810897,
           0.7543775433980124,
           0.745095756129199,
           0.7540578988422165,
           0.7491233860342555,
           0.752106597518118,
           0.7536453109182247,
           0.7599381339735738,
           0.7571231696813092,
           0.7569996749852865,
           0.7547860601000866,
           0.7550679159514507,
           0.753199799230383,
           0.753895187019374,
           0.7537629164724671,
           0.7527450210438971,
           0.7533015653728181,
           0.7529553936489544,
           0.7539214733150919,
           0.7528027039613809,
           0.750576461436631,
           0.7538400835734926,
           0.751695230790342,
           0.7560154904950743,
           0.7548644113583837,
           0.7525314025047241,
           0.7558560906714816
          ],
          [
           0.7298327857575337,
           0.7485096019085724,
           0.7495136498992614,
           0.7567197609901835,
           0.7503443133548768,
           0.7432169181860125,
           0.7532948619716445,
           0.7471889076000078,
           0.7509349633968437,
           0.7536453109182247,
           0.7587831187760055,
           0.7553542365690925,
           0.7530038529975018,
           0.7547860601000866,
           0.7538738861007046,
           0.752151495016611,
           0.753895187019374,
           0.7526281646994175,
           0.7527450210438971,
           0.7522772375879271,
           0.7539654946590554,
           0.7539214733150919,
           0.7528027039613809,
           0.7515865624467319,
           0.7527053318004429,
           0.7527053318004429,
           0.7538400835734926,
           0.755903268615401,
           0.7525314025047241,
           0.754705011534791
          ],
          [
           0.7298327857575337,
           0.7485096019085724,
           0.7513363885641053,
           0.7602928048617348,
           0.7521670520197208,
           0.7490070634472465,
           0.7532948619716445,
           0.7506860160965794,
           0.7509349633968437,
           0.7536453109182247,
           0.7587831187760055,
           0.7565053157057832,
           0.7547948977736212,
           0.7547860601000866,
           0.7538738861007046,
           0.752151495016611,
           0.753895187019374,
           0.7526281646994175,
           0.7527450210438971,
           0.7522772375879271,
           0.7539654946590554,
           0.7550562250881414,
           0.7528027039613809,
           0.7515865624467319,
           0.7527053318004429,
           0.7515865624467319,
           0.7527053318004429,
           0.7536497474886403,
           0.7514126331510131,
           0.7535702597617414
          ],
          [
           0.7298327857575337,
           0.7485096019085724,
           0.7501468475473844,
           0.7582024822810897,
           0.7521670520197208,
           0.7468745831060498,
           0.7532948619716445,
           0.7506860160965794,
           0.7509349633968437,
           0.7536453109182247,
           0.7587831187760055,
           0.7565053157057832,
           0.7547948977736212,
           0.7536672907463757,
           0.7538738861007046,
           0.752151495016611,
           0.753895187019374,
           0.7526281646994175,
           0.7527450210438971,
           0.7522772375879271,
           0.7539654946590554,
           0.7550562250881414,
           0.7528027039613809,
           0.7515865624467319,
           0.7527053318004429,
           0.7515865624467319,
           0.7527053318004429,
           0.7536497474886403,
           0.7514126331510131,
           0.7535702597617414
          ],
          [
           0.7298327857575337,
           0.7485096019085724,
           0.7483288697671129,
           0.7564293928410716,
           0.7521670520197208,
           0.7433309281531557,
           0.7532948619716445,
           0.7489799523761271,
           0.7509349633968437,
           0.7536453109182247,
           0.7570809911164309,
           0.7565053157057832,
           0.7547948977736212,
           0.7536672907463757,
           0.7538738861007046,
           0.752151495016611,
           0.753895187019374,
           0.7526281646994175,
           0.7527450210438971,
           0.7522772375879271,
           0.7539654946590554,
           0.7550562250881414,
           0.7528027039613809,
           0.7515865624467319,
           0.7527053318004429,
           0.7515865624467319,
           0.7527053318004429,
           0.7536497474886403,
           0.7514126331510131,
           0.7535702597617414
          ],
          [
           0.7298327857575337,
           0.7485096019085724,
           0.7483288697671129,
           0.7564293928410716,
           0.7521670520197208,
           0.7433309281531557,
           0.7532948619716445,
           0.7489799523761271,
           0.7509349633968437,
           0.7536453109182247,
           0.7570809911164309,
           0.7565053157057832,
           0.7547948977736212,
           0.7536672907463757,
           0.7538738861007046,
           0.752151495016611,
           0.753895187019374,
           0.7526281646994175,
           0.7527450210438971,
           0.7522772375879271,
           0.7539654946590554,
           0.7550562250881414,
           0.7528027039613809,
           0.7515865624467319,
           0.7527053318004429,
           0.7515865624467319,
           0.7527053318004429,
           0.7536497474886403,
           0.7514126331510131,
           0.7535702597617414
          ],
          [
           0.7298327857575337,
           0.7485096019085724,
           0.7483288697671129,
           0.7564293928410716,
           0.7521670520197208,
           0.7433309281531557,
           0.7532948619716445,
           0.7489799523761271,
           0.7509349633968437,
           0.7536453109182247,
           0.7570809911164309,
           0.7565053157057832,
           0.7547948977736212,
           0.7536672907463757,
           0.7538738861007046,
           0.752151495016611,
           0.753895187019374,
           0.7526281646994175,
           0.7527450210438971,
           0.7522772375879271,
           0.7539654946590554,
           0.7550562250881414,
           0.7528027039613809,
           0.7515865624467319,
           0.7527053318004429,
           0.7515865624467319,
           0.7527053318004429,
           0.7536497474886403,
           0.7514126331510131,
           0.7535702597617414
          ],
          [
           0.7298327857575337,
           0.7485096019085724,
           0.7483288697671129,
           0.7564293928410716,
           0.7521670520197208,
           0.7433309281531557,
           0.7532948619716445,
           0.7489799523761271,
           0.7509349633968437,
           0.7536453109182247,
           0.7570809911164309,
           0.7565053157057832,
           0.7547948977736212,
           0.7536672907463757,
           0.7538738861007046,
           0.752151495016611,
           0.753895187019374,
           0.7526281646994175,
           0.7527450210438971,
           0.7522772375879271,
           0.7539654946590554,
           0.7550562250881414,
           0.7528027039613809,
           0.7515865624467319,
           0.7527053318004429,
           0.7515865624467319,
           0.7527053318004429,
           0.7536497474886403,
           0.7514126331510131,
           0.7535702597617414
          ],
          [
           0.7298327857575337,
           0.7485096019085724,
           0.7483288697671129,
           0.7564293928410716,
           0.7521670520197208,
           0.7433309281531557,
           0.7532948619716445,
           0.7489799523761271,
           0.7509349633968437,
           0.7536453109182247,
           0.7570809911164309,
           0.7565053157057832,
           0.7547948977736212,
           0.7536672907463757,
           0.7538738861007046,
           0.752151495016611,
           0.753895187019374,
           0.7526281646994175,
           0.7527450210438971,
           0.7522772375879271,
           0.7539654946590554,
           0.7550562250881414,
           0.7528027039613809,
           0.7515865624467319,
           0.7527053318004429,
           0.7515865624467319,
           0.7527053318004429,
           0.7536497474886403,
           0.7514126331510131,
           0.7535702597617414
          ],
          [
           0.7298327857575337,
           0.7485096019085724,
           0.7483288697671129,
           0.7564293928410716,
           0.7521670520197208,
           0.7433309281531557,
           0.7532948619716445,
           0.7489799523761271,
           0.7509349633968437,
           0.7536453109182247,
           0.7570809911164309,
           0.7565053157057832,
           0.7547948977736212,
           0.7536672907463757,
           0.7538738861007046,
           0.752151495016611,
           0.753895187019374,
           0.7526281646994175,
           0.7527450210438971,
           0.7522772375879271,
           0.7539654946590554,
           0.7550562250881414,
           0.7528027039613809,
           0.7515865624467319,
           0.7527053318004429,
           0.7515865624467319,
           0.7527053318004429,
           0.7536497474886403,
           0.7514126331510131,
           0.7535702597617414
          ],
          [
           0.7298327857575337,
           0.7485096019085724,
           0.7483288697671129,
           0.7564293928410716,
           0.7521670520197208,
           0.7433309281531557,
           0.7532948619716445,
           0.7489799523761271,
           0.7509349633968437,
           0.7536453109182247,
           0.7570809911164309,
           0.7565053157057832,
           0.7547948977736212,
           0.7536672907463757,
           0.7538738861007046,
           0.752151495016611,
           0.753895187019374,
           0.7526281646994175,
           0.7527450210438971,
           0.7522772375879271,
           0.7539654946590554,
           0.7550562250881414,
           0.7528027039613809,
           0.7515865624467319,
           0.7527053318004429,
           0.7515865624467319,
           0.7527053318004429,
           0.7536497474886403,
           0.7514126331510131,
           0.7535702597617414
          ],
          [
           0.7298327857575337,
           0.7485096019085724,
           0.7483288697671129,
           0.7564293928410716,
           0.7521670520197208,
           0.7433309281531557,
           0.7532948619716445,
           0.7489799523761271,
           0.7509349633968437,
           0.7536453109182247,
           0.7570809911164309,
           0.7565053157057832,
           0.7547948977736212,
           0.7536672907463757,
           0.7538738861007046,
           0.752151495016611,
           0.753895187019374,
           0.7526281646994175,
           0.7527450210438971,
           0.7522772375879271,
           0.7539654946590554,
           0.7550562250881414,
           0.7528027039613809,
           0.7515865624467319,
           0.7527053318004429,
           0.7515865624467319,
           0.7527053318004429,
           0.7536497474886403,
           0.7514126331510131,
           0.7535702597617414
          ],
          [
           0.7298327857575337,
           0.7485096019085724,
           0.7483288697671129,
           0.7564293928410716,
           0.7521670520197208,
           0.7433309281531557,
           0.7532948619716445,
           0.7489799523761271,
           0.7509349633968437,
           0.7536453109182247,
           0.7570809911164309,
           0.7565053157057832,
           0.7547948977736212,
           0.7536672907463757,
           0.7538738861007046,
           0.752151495016611,
           0.753895187019374,
           0.7526281646994175,
           0.7527450210438971,
           0.7522772375879271,
           0.7539654946590554,
           0.7550562250881414,
           0.7528027039613809,
           0.7515865624467319,
           0.7527053318004429,
           0.7515865624467319,
           0.7527053318004429,
           0.7536497474886403,
           0.7514126331510131,
           0.7535702597617414
          ],
          [
           0.7298327857575337,
           0.7485096019085724,
           0.7483288697671129,
           0.7564293928410716,
           0.7521670520197208,
           0.7433309281531557,
           0.7532948619716445,
           0.7489799523761271,
           0.7509349633968437,
           0.7536453109182247,
           0.7570809911164309,
           0.7565053157057832,
           0.7547948977736212,
           0.7536672907463757,
           0.7538738861007046,
           0.752151495016611,
           0.753895187019374,
           0.7526281646994175,
           0.7527450210438971,
           0.7522772375879271,
           0.7539654946590554,
           0.7550562250881414,
           0.7528027039613809,
           0.7515865624467319,
           0.7527053318004429,
           0.7515865624467319,
           0.7527053318004429,
           0.7536497474886403,
           0.7514126331510131,
           0.7535702597617414
          ],
          [
           0.7298327857575337,
           0.7485096019085724,
           0.7483288697671129,
           0.7564293928410716,
           0.7521670520197208,
           0.7433309281531557,
           0.7532948619716445,
           0.7489799523761271,
           0.7509349633968437,
           0.7536453109182247,
           0.7570809911164309,
           0.7565053157057832,
           0.7547948977736212,
           0.7536672907463757,
           0.7538738861007046,
           0.752151495016611,
           0.753895187019374,
           0.7526281646994175,
           0.7527450210438971,
           0.7522772375879271,
           0.7539654946590554,
           0.7550562250881414,
           0.7528027039613809,
           0.7515865624467319,
           0.7527053318004429,
           0.7515865624467319,
           0.7527053318004429,
           0.7536497474886403,
           0.7514126331510131,
           0.7535702597617414
          ],
          [
           0.7298327857575337,
           0.7485096019085724,
           0.7483288697671129,
           0.7564293928410716,
           0.7521670520197208,
           0.7433309281531557,
           0.7532948619716445,
           0.7489799523761271,
           0.7509349633968437,
           0.7536453109182247,
           0.7570809911164309,
           0.7565053157057832,
           0.7547948977736212,
           0.7536672907463757,
           0.7538738861007046,
           0.752151495016611,
           0.753895187019374,
           0.7526281646994175,
           0.7527450210438971,
           0.7522772375879271,
           0.7539654946590554,
           0.7550562250881414,
           0.7528027039613809,
           0.7515865624467319,
           0.7527053318004429,
           0.7515865624467319,
           0.7527053318004429,
           0.7536497474886403,
           0.7514126331510131,
           0.7535702597617414
          ],
          [
           0.7298327857575337,
           0.7485096019085724,
           0.7483288697671129,
           0.7564293928410716,
           0.7521670520197208,
           0.7433309281531557,
           0.7532948619716445,
           0.7489799523761271,
           0.7509349633968437,
           0.7536453109182247,
           0.7570809911164309,
           0.7565053157057832,
           0.7547948977736212,
           0.7536672907463757,
           0.7538738861007046,
           0.752151495016611,
           0.753895187019374,
           0.7526281646994175,
           0.7527450210438971,
           0.7522772375879271,
           0.7539654946590554,
           0.7550562250881414,
           0.7528027039613809,
           0.7515865624467319,
           0.7527053318004429,
           0.7515865624467319,
           0.7527053318004429,
           0.7536497474886403,
           0.7514126331510131,
           0.7535702597617414
          ]
         ]
        },
        {
         "type": "surface",
         "x": [
          3,
          4,
          5,
          7,
          8,
          10,
          11,
          13,
          14,
          16,
          17,
          18,
          20,
          21,
          23,
          24,
          26,
          27,
          29,
          30,
          31,
          33,
          34,
          36,
          37,
          39,
          40,
          42,
          43,
          45
         ],
         "y": [
          5,
          11,
          18,
          25,
          31,
          38,
          45,
          52,
          58,
          65,
          72,
          78,
          85,
          92,
          99,
          105,
          112,
          119,
          126,
          132,
          139,
          146,
          152,
          159,
          166,
          173,
          179,
          186,
          193,
          200
         ],
         "z": [
          [
           0.7396541687385311,
           0.7424773990518312,
           0.748290513387641,
           0.7333992952096238,
           0.7342979301854582,
           0.7350805563003606,
           0.745981249777904,
           0.7461507788319708,
           0.7479632031720513,
           0.7461890112367009,
           0.751126890817443,
           0.7523266387548642,
           0.7494275753865456,
           0.7478528372274622,
           0.7482100217698304,
           0.7505163754354328,
           0.7465288948434559,
           0.7457655921584889,
           0.7442906629571547,
           0.743840251173119,
           0.7419495088009762,
           0.7414147109055398,
           0.7411995537816789,
           0.7411943223043642,
           0.7405700310534948,
           0.7411943223043642,
           0.7436965809361159,
           0.7451601401053891,
           0.7447922430602674,
           0.7453316210462526
          ],
          [
           0.7662087623825902,
           0.7632506241849414,
           0.7736550107781452,
           0.7758321058026592,
           0.7733530191070186,
           0.7744247322724964,
           0.7726294874527776,
           0.771598203160264,
           0.7735588279574304,
           0.7726999049940995,
           0.7740802514919283,
           0.7749107253470544,
           0.7738274505983507,
           0.774519335285084,
           0.7706219812668508,
           0.7736029380338292,
           0.7753083186219806,
           0.7742639161384226,
           0.7728822024393861,
           0.7734322830023973,
           0.7732338384785049,
           0.7697473277305809,
           0.7719898328777054,
           0.7707318530696232,
           0.7711229254427533,
           0.7688581748508733,
           0.7701281947303855,
           0.7719168391534836,
           0.769941323857191,
           0.771542869348498
          ],
          [
           0.780461489994401,
           0.7850250621069119,
           0.7949273971574441,
           0.7896191306510038,
           0.7912801406504106,
           0.7897090396379535,
           0.7839526989029464,
           0.7877271367508745,
           0.7896907991071804,
           0.7853577626063657,
           0.7849418497652417,
           0.7886480935536596,
           0.7864660549483437,
           0.7882874501429779,
           0.7859782051478219,
           0.7860783889849168,
           0.7883459963478113,
           0.7837780538328504,
           0.7843145699298166,
           0.7838160106815425,
           0.7842766130811245,
           0.7839011310997944,
           0.7847201659383682,
           0.7861890455584645,
           0.7853817141270694,
           0.7856002526250423,
           0.7860238705649333,
           0.7889494426364931,
           0.7875517638575468,
           0.7872702652834526
          ],
          [
           0.8342476753466791,
           0.8422763188065387,
           0.8529175616617699,
           0.8538451064819558,
           0.8508654469125952,
           0.8594927250210818,
           0.8554060273107191,
           0.8587817304145077,
           0.8621248932964614,
           0.8614537697538818,
           0.86276809048398,
           0.8628092429282734,
           0.8623769353006466,
           0.8624609261731001,
           0.8621462203363194,
           0.8635301366676768,
           0.8642052204749554,
           0.8622844870935216,
           0.8608663066013429,
           0.8621900535929106,
           0.8627067721148004,
           0.8632666391042875,
           0.8639647357556761,
           0.8612399280193349,
           0.8616955524399319,
           0.8620407301601904,
           0.8615860874982338,
           0.8605197664783463,
           0.8612265836902694,
           0.8599811939411491
          ],
          [
           0.8576515653555055,
           0.8686117429123457,
           0.8789940574352846,
           0.8828474642098175,
           0.8829097101916578,
           0.8806559312256782,
           0.881738558527346,
           0.886569610188461,
           0.8878582968534126,
           0.8861783136530871,
           0.8911723158610558,
           0.890117916573214,
           0.890038301316072,
           0.8905524050148259,
           0.8914043771514211,
           0.8913435239718475,
           0.8924990163196069,
           0.8913631745095223,
           0.8923020019641777,
           0.8911748430232805,
           0.8924814735713198,
           0.8918967497335313,
           0.890240271353694,
           0.8913898612064941,
           0.891383013926778,
           0.891383013926778,
           0.891462902256755,
           0.8915425022605155,
           0.8923179972508948,
           0.8931191802759694
          ],
          [
           0.8880837793698955,
           0.9053432797486496,
           0.9192723637211355,
           0.9195916164844877,
           0.9226271917715729,
           0.9229952607472072,
           0.9253556519295882,
           0.9270727714724254,
           0.9287179812065401,
           0.9254549458145529,
           0.9262647446709661,
           0.9254422761617016,
           0.9250476305720824,
           0.9274500868186243,
           0.9278770773264003,
           0.9271588484789726,
           0.9272067491763218,
           0.926641773192977,
           0.9277078783810035,
           0.9274045586872118,
           0.9283286553869363,
           0.9286280207837265,
           0.929855761082641,
           0.929855761082641,
           0.9294340409803967,
           0.9294537738032137,
           0.9294455136888109,
           0.9294440485195473,
           0.9298000846506213,
           0.930978586431554
          ],
          [
           0.9063857805099442,
           0.920726166639974,
           0.9322369633506863,
           0.9355447377899985,
           0.9370933303965666,
           0.9355060548576392,
           0.9369923337917674,
           0.9370523847928428,
           0.9381702539484504,
           0.9402624202817333,
           0.9410607118545824,
           0.9410636657106227,
           0.9411492553004568,
           0.9418592479451183,
           0.9418656302669683,
           0.9411027191118875,
           0.9422205153585004,
           0.9414590471944513,
           0.942441683005446,
           0.9428458996539375,
           0.942497266739497,
           0.9432813690786302,
           0.9436826498570262,
           0.9428832479810764,
           0.9424246367983897,
           0.9420295119005466,
           0.9424368289558493,
           0.9428775561926035,
           0.9424246367983897,
           0.9436419329122376
          ],
          [
           0.9220721635425022,
           0.9427474570980895,
           0.947585730356933,
           0.9537282956725361,
           0.9576455655166847,
           0.9587279354801101,
           0.9570850653751155,
           0.9586881007572172,
           0.9586626108873743,
           0.9598008068349078,
           0.960520502817612,
           0.960904018563218,
           0.9601282793210174,
           0.9605325314037909,
           0.9609366559840635,
           0.9609364960717756,
           0.9609098439001496,
           0.9612861112448327,
           0.9620692177088304,
           0.9612861112448327,
           0.9612977839446781,
           0.9612977839446781,
           0.9609321788515792,
           0.9605369219345832,
           0.9605323884879313,
           0.9609009851428165,
           0.9605456296855721,
           0.9609291454311778,
           0.9609291454311778,
           0.9605456296855721
          ],
          [
           0.9271708481392068,
           0.9460180470617537,
           0.9565815579603699,
           0.961546445918325,
           0.9634985757829224,
           0.9614203846349021,
           0.9614244369963639,
           0.9629881524410401,
           0.9637430530962053,
           0.9648252400164274,
           0.9659761256719733,
           0.9659495861911139,
           0.9663668774106069,
           0.9663668774106069,
           0.9663374191569158,
           0.9667487730811072,
           0.9667487730811072,
           0.9667768829356367,
           0.9671381141636447,
           0.9671381141636447,
           0.9663695935223966,
           0.9663638728021237,
           0.9663875418530992,
           0.9663610882078913,
           0.9663610882078913,
           0.9663374191569158,
           0.9659702806805986,
           0.9663610882078913,
           0.9663610882078913,
           0.9663610882078913
          ],
          [
           0.9336980355410136,
           0.954893781606614,
           0.9671187570435116,
           0.9715528454444419,
           0.972763878982352,
           0.9741695150336671,
           0.9730305268759738,
           0.9730043069142189,
           0.9726278991972503,
           0.9745008206940252,
           0.9740294159808057,
           0.9743963714174194,
           0.9747779783111286,
           0.9740341863410844,
           0.9747813623506041,
           0.9751876397943822,
           0.9744304057541189,
           0.9759517962027466,
           0.9759517962027466,
           0.9755682804571408,
           0.9770882847025533,
           0.9767118680808589,
           0.9767225852395642,
           0.976343289066444,
           0.9767197056881383,
           0.9770839978405046,
           0.9770989759010501,
           0.9774825329760104,
           0.9771032627630987,
           0.9771032627630987
          ],
          [
           0.9378997551368897,
           0.9579230857046781,
           0.9674744970118014,
           0.9730712606201187,
           0.9735340422266958,
           0.9742775371473369,
           0.9745893730680514,
           0.9749031653067999,
           0.9756614884255683,
           0.9771443235437353,
           0.9767227202758113,
           0.9778439577527843,
           0.9778439577527843,
           0.9778439577527843,
           0.9774441467045809,
           0.9774441467045809,
           0.97745115767529,
           0.9782040944410273,
           0.978581965132858,
           0.978581965132858,
           0.978581965132858,
           0.9789640963450863,
           0.9789790744056315,
           0.9789790744056315,
           0.9789790744056315,
           0.97897626117858,
           0.9789912392391255,
           0.9789912392391255,
           0.9789912392391255,
           0.979367718142036
          ],
          [
           0.9402714940572178,
           0.9580078469797133,
           0.9686132859589028,
           0.9734978606015323,
           0.9731820167587617,
           0.974277694425296,
           0.9750066143497135,
           0.9757038123937523,
           0.9768099838105956,
           0.9779191194226039,
           0.9782454001133287,
           0.97824536474637,
           0.9790024729918055,
           0.9797568225865468,
           0.9789669389389077,
           0.9793626423393554,
           0.9793448096307384,
           0.979721288533649,
           0.979721288533649,
           0.979721288533649,
           0.979721288533649,
           0.979721288533649,
           0.9797362665941944,
           0.9797362665941944,
           0.9797362665941944,
           0.9797334533671428,
           0.9797484314276883,
           0.9797484314276883,
           0.9797484314276883,
           0.9797484314276883
          ],
          [
           0.9400439387675199,
           0.9624753349382678,
           0.9701283229502193,
           0.9750247427871755,
           0.974711809378198,
           0.9765532879141811,
           0.9768696791684764,
           0.9783334356065831,
           0.9787070457996488,
           0.979427708681367,
           0.9793979773910102,
           0.9797892621425305,
           0.9797716907163728,
           0.9797568225865468,
           0.979721288533649,
           0.9797568225865468,
           0.9797334533671428,
           0.9797334533671428,
           0.979721288533649,
           0.979721288533649,
           0.9797334533671428,
           0.9797334533671428,
           0.9797484314276883,
           0.9797484314276883,
           0.9797632995575141,
           0.9797334533671428,
           0.9797484314276883,
           0.9797484314276883,
           0.9797484314276883,
           0.9797484314276883
          ],
          [
           0.9387987082426408,
           0.9624753349382678,
           0.9697695504160985,
           0.9753998102453515,
           0.9750882882811087,
           0.9765532879141811,
           0.9768696791684764,
           0.9783334356065831,
           0.9783173368950144,
           0.9794424680862945,
           0.9797892621425305,
           0.9797743940127047,
           0.9797568225865468,
           0.9797568225865468,
           0.979721288533649,
           0.979739121242266,
           0.9797334533671428,
           0.9797334533671428,
           0.979721288533649,
           0.9797065291287215,
           0.9797334533671428,
           0.9797334533671428,
           0.9797484314276883,
           0.9797484314276883,
           0.9797632995575141,
           0.9797334533671428,
           0.9797484314276883,
           0.9797484314276883,
           0.9797484314276883,
           0.9797484314276883
          ],
          [
           0.9395767623053665,
           0.9625037195497536,
           0.9701283229502193,
           0.9753998102453515,
           0.9751070043582188,
           0.9765720039912912,
           0.9768509630913662,
           0.9783334356065831,
           0.9787070457996488,
           0.9794424680862945,
           0.9797743940127047,
           0.9797892621425305,
           0.9797716907163728,
           0.9797568225865468,
           0.979739121242266,
           0.9797568225865468,
           0.9797512860757598,
           0.9797334533671428,
           0.979721288533649,
           0.9797065291287215,
           0.9797334533671428,
           0.9797334533671428,
           0.9797484314276883,
           0.9797484314276883,
           0.9797632995575141,
           0.9797334533671428,
           0.9797484314276883,
           0.9797484314276883,
           0.9797484314276883,
           0.9797484314276883
          ],
          [
           0.9395767623053665,
           0.9625037195497536,
           0.9697695504160985,
           0.9753998102453515,
           0.9751070043582188,
           0.9765720039912912,
           0.9768509630913662,
           0.9783334356065831,
           0.9787070457996488,
           0.9794424680862945,
           0.9797743940127047,
           0.9797892621425305,
           0.9797716907163728,
           0.9797568225865468,
           0.979739121242266,
           0.9797568225865468,
           0.9797512860757598,
           0.9797334533671428,
           0.979721288533649,
           0.9797065291287215,
           0.9797334533671428,
           0.9797334533671428,
           0.9797484314276883,
           0.9797484314276883,
           0.9797632995575141,
           0.9797334533671428,
           0.9797484314276883,
           0.9797484314276883,
           0.9797484314276883,
           0.9797484314276883
          ],
          [
           0.9395767623053665,
           0.9625037195497536,
           0.9697695504160985,
           0.9753998102453515,
           0.9751070043582188,
           0.9765720039912912,
           0.9768509630913662,
           0.9783334356065831,
           0.9787070457996488,
           0.9794424680862945,
           0.9797743940127047,
           0.9797892621425305,
           0.9797716907163728,
           0.9797568225865468,
           0.979739121242266,
           0.9797568225865468,
           0.9797512860757598,
           0.9797334533671428,
           0.979721288533649,
           0.9797065291287215,
           0.9797334533671428,
           0.9797334533671428,
           0.9797484314276883,
           0.9797484314276883,
           0.9797632995575141,
           0.9797334533671428,
           0.9797484314276883,
           0.9797484314276883,
           0.9797484314276883,
           0.9797484314276883
          ],
          [
           0.9395767623053665,
           0.9625037195497536,
           0.9697695504160985,
           0.9753998102453515,
           0.9751070043582188,
           0.9765720039912912,
           0.9768509630913662,
           0.9783334356065831,
           0.9787070457996488,
           0.9794424680862945,
           0.9797743940127047,
           0.9797892621425305,
           0.9797716907163728,
           0.9797568225865468,
           0.979739121242266,
           0.9797568225865468,
           0.9797512860757598,
           0.9797334533671428,
           0.979721288533649,
           0.9797065291287215,
           0.9797334533671428,
           0.9797334533671428,
           0.9797484314276883,
           0.9797484314276883,
           0.9797632995575141,
           0.9797334533671428,
           0.9797484314276883,
           0.9797484314276883,
           0.9797484314276883,
           0.9797484314276883
          ],
          [
           0.9395767623053665,
           0.9625037195497536,
           0.9697695504160985,
           0.9753998102453515,
           0.9751070043582188,
           0.9765720039912912,
           0.9768509630913662,
           0.9783334356065831,
           0.9787070457996488,
           0.9794424680862945,
           0.9797743940127047,
           0.9797892621425305,
           0.9797716907163728,
           0.9797568225865468,
           0.979739121242266,
           0.9797568225865468,
           0.9797512860757598,
           0.9797334533671428,
           0.979721288533649,
           0.9797065291287215,
           0.9797334533671428,
           0.9797334533671428,
           0.9797484314276883,
           0.9797484314276883,
           0.9797632995575141,
           0.9797334533671428,
           0.9797484314276883,
           0.9797484314276883,
           0.9797484314276883,
           0.9797484314276883
          ],
          [
           0.9395767623053665,
           0.9625037195497536,
           0.9697695504160985,
           0.9753998102453515,
           0.9751070043582188,
           0.9765720039912912,
           0.9768509630913662,
           0.9783334356065831,
           0.9787070457996488,
           0.9794424680862945,
           0.9797743940127047,
           0.9797892621425305,
           0.9797716907163728,
           0.9797568225865468,
           0.979739121242266,
           0.9797568225865468,
           0.9797512860757598,
           0.9797334533671428,
           0.979721288533649,
           0.9797065291287215,
           0.9797334533671428,
           0.9797334533671428,
           0.9797484314276883,
           0.9797484314276883,
           0.9797632995575141,
           0.9797334533671428,
           0.9797484314276883,
           0.9797484314276883,
           0.9797484314276883,
           0.9797484314276883
          ],
          [
           0.9395767623053665,
           0.9625037195497536,
           0.9697695504160985,
           0.9753998102453515,
           0.9751070043582188,
           0.9765720039912912,
           0.9768509630913662,
           0.9783334356065831,
           0.9787070457996488,
           0.9794424680862945,
           0.9797743940127047,
           0.9797892621425305,
           0.9797716907163728,
           0.9797568225865468,
           0.979739121242266,
           0.9797568225865468,
           0.9797512860757598,
           0.9797334533671428,
           0.979721288533649,
           0.9797065291287215,
           0.9797334533671428,
           0.9797334533671428,
           0.9797484314276883,
           0.9797484314276883,
           0.9797632995575141,
           0.9797334533671428,
           0.9797484314276883,
           0.9797484314276883,
           0.9797484314276883,
           0.9797484314276883
          ],
          [
           0.9395767623053665,
           0.9625037195497536,
           0.9697695504160985,
           0.9753998102453515,
           0.9751070043582188,
           0.9765720039912912,
           0.9768509630913662,
           0.9783334356065831,
           0.9787070457996488,
           0.9794424680862945,
           0.9797743940127047,
           0.9797892621425305,
           0.9797716907163728,
           0.9797568225865468,
           0.979739121242266,
           0.9797568225865468,
           0.9797512860757598,
           0.9797334533671428,
           0.979721288533649,
           0.9797065291287215,
           0.9797334533671428,
           0.9797334533671428,
           0.9797484314276883,
           0.9797484314276883,
           0.9797632995575141,
           0.9797334533671428,
           0.9797484314276883,
           0.9797484314276883,
           0.9797484314276883,
           0.9797484314276883
          ],
          [
           0.9395767623053665,
           0.9625037195497536,
           0.9697695504160985,
           0.9753998102453515,
           0.9751070043582188,
           0.9765720039912912,
           0.9768509630913662,
           0.9783334356065831,
           0.9787070457996488,
           0.9794424680862945,
           0.9797743940127047,
           0.9797892621425305,
           0.9797716907163728,
           0.9797568225865468,
           0.979739121242266,
           0.9797568225865468,
           0.9797512860757598,
           0.9797334533671428,
           0.979721288533649,
           0.9797065291287215,
           0.9797334533671428,
           0.9797334533671428,
           0.9797484314276883,
           0.9797484314276883,
           0.9797632995575141,
           0.9797334533671428,
           0.9797484314276883,
           0.9797484314276883,
           0.9797484314276883,
           0.9797484314276883
          ],
          [
           0.9395767623053665,
           0.9625037195497536,
           0.9697695504160985,
           0.9753998102453515,
           0.9751070043582188,
           0.9765720039912912,
           0.9768509630913662,
           0.9783334356065831,
           0.9787070457996488,
           0.9794424680862945,
           0.9797743940127047,
           0.9797892621425305,
           0.9797716907163728,
           0.9797568225865468,
           0.979739121242266,
           0.9797568225865468,
           0.9797512860757598,
           0.9797334533671428,
           0.979721288533649,
           0.9797065291287215,
           0.9797334533671428,
           0.9797334533671428,
           0.9797484314276883,
           0.9797484314276883,
           0.9797632995575141,
           0.9797334533671428,
           0.9797484314276883,
           0.9797484314276883,
           0.9797484314276883,
           0.9797484314276883
          ],
          [
           0.9395767623053665,
           0.9625037195497536,
           0.9697695504160985,
           0.9753998102453515,
           0.9751070043582188,
           0.9765720039912912,
           0.9768509630913662,
           0.9783334356065831,
           0.9787070457996488,
           0.9794424680862945,
           0.9797743940127047,
           0.9797892621425305,
           0.9797716907163728,
           0.9797568225865468,
           0.979739121242266,
           0.9797568225865468,
           0.9797512860757598,
           0.9797334533671428,
           0.979721288533649,
           0.9797065291287215,
           0.9797334533671428,
           0.9797334533671428,
           0.9797484314276883,
           0.9797484314276883,
           0.9797632995575141,
           0.9797334533671428,
           0.9797484314276883,
           0.9797484314276883,
           0.9797484314276883,
           0.9797484314276883
          ],
          [
           0.9395767623053665,
           0.9625037195497536,
           0.9697695504160985,
           0.9753998102453515,
           0.9751070043582188,
           0.9765720039912912,
           0.9768509630913662,
           0.9783334356065831,
           0.9787070457996488,
           0.9794424680862945,
           0.9797743940127047,
           0.9797892621425305,
           0.9797716907163728,
           0.9797568225865468,
           0.979739121242266,
           0.9797568225865468,
           0.9797512860757598,
           0.9797334533671428,
           0.979721288533649,
           0.9797065291287215,
           0.9797334533671428,
           0.9797334533671428,
           0.9797484314276883,
           0.9797484314276883,
           0.9797632995575141,
           0.9797334533671428,
           0.9797484314276883,
           0.9797484314276883,
           0.9797484314276883,
           0.9797484314276883
          ],
          [
           0.9395767623053665,
           0.9625037195497536,
           0.9697695504160985,
           0.9753998102453515,
           0.9751070043582188,
           0.9765720039912912,
           0.9768509630913662,
           0.9783334356065831,
           0.9787070457996488,
           0.9794424680862945,
           0.9797743940127047,
           0.9797892621425305,
           0.9797716907163728,
           0.9797568225865468,
           0.979739121242266,
           0.9797568225865468,
           0.9797512860757598,
           0.9797334533671428,
           0.979721288533649,
           0.9797065291287215,
           0.9797334533671428,
           0.9797334533671428,
           0.9797484314276883,
           0.9797484314276883,
           0.9797632995575141,
           0.9797334533671428,
           0.9797484314276883,
           0.9797484314276883,
           0.9797484314276883,
           0.9797484314276883
          ],
          [
           0.9395767623053665,
           0.9625037195497536,
           0.9697695504160985,
           0.9753998102453515,
           0.9751070043582188,
           0.9765720039912912,
           0.9768509630913662,
           0.9783334356065831,
           0.9787070457996488,
           0.9794424680862945,
           0.9797743940127047,
           0.9797892621425305,
           0.9797716907163728,
           0.9797568225865468,
           0.979739121242266,
           0.9797568225865468,
           0.9797512860757598,
           0.9797334533671428,
           0.979721288533649,
           0.9797065291287215,
           0.9797334533671428,
           0.9797334533671428,
           0.9797484314276883,
           0.9797484314276883,
           0.9797632995575141,
           0.9797334533671428,
           0.9797484314276883,
           0.9797484314276883,
           0.9797484314276883,
           0.9797484314276883
          ],
          [
           0.9395767623053665,
           0.9625037195497536,
           0.9697695504160985,
           0.9753998102453515,
           0.9751070043582188,
           0.9765720039912912,
           0.9768509630913662,
           0.9783334356065831,
           0.9787070457996488,
           0.9794424680862945,
           0.9797743940127047,
           0.9797892621425305,
           0.9797716907163728,
           0.9797568225865468,
           0.979739121242266,
           0.9797568225865468,
           0.9797512860757598,
           0.9797334533671428,
           0.979721288533649,
           0.9797065291287215,
           0.9797334533671428,
           0.9797334533671428,
           0.9797484314276883,
           0.9797484314276883,
           0.9797632995575141,
           0.9797334533671428,
           0.9797484314276883,
           0.9797484314276883,
           0.9797484314276883,
           0.9797484314276883
          ],
          [
           0.9395767623053665,
           0.9625037195497536,
           0.9697695504160985,
           0.9753998102453515,
           0.9751070043582188,
           0.9765720039912912,
           0.9768509630913662,
           0.9783334356065831,
           0.9787070457996488,
           0.9794424680862945,
           0.9797743940127047,
           0.9797892621425305,
           0.9797716907163728,
           0.9797568225865468,
           0.979739121242266,
           0.9797568225865468,
           0.9797512860757598,
           0.9797334533671428,
           0.979721288533649,
           0.9797065291287215,
           0.9797334533671428,
           0.9797334533671428,
           0.9797484314276883,
           0.9797484314276883,
           0.9797632995575141,
           0.9797334533671428,
           0.9797484314276883,
           0.9797484314276883,
           0.9797484314276883,
           0.9797484314276883
          ]
         ]
        }
       ],
       "layout": {
        "autosize": false,
        "height": 500,
        "scene": {
         "xaxis": {
          "title": {
           "text": "max depth"
          }
         },
         "yaxis": {
          "title": {
           "text": "n estimators"
          }
         },
         "zaxis": {
          "title": {
           "text": "f1 score"
          }
         }
        },
        "template": {
         "data": {
          "bar": [
           {
            "error_x": {
             "color": "#2a3f5f"
            },
            "error_y": {
             "color": "#2a3f5f"
            },
            "marker": {
             "line": {
              "color": "#E5ECF6",
              "width": 0.5
             }
            },
            "type": "bar"
           }
          ],
          "barpolar": [
           {
            "marker": {
             "line": {
              "color": "#E5ECF6",
              "width": 0.5
             }
            },
            "type": "barpolar"
           }
          ],
          "carpet": [
           {
            "aaxis": {
             "endlinecolor": "#2a3f5f",
             "gridcolor": "white",
             "linecolor": "white",
             "minorgridcolor": "white",
             "startlinecolor": "#2a3f5f"
            },
            "baxis": {
             "endlinecolor": "#2a3f5f",
             "gridcolor": "white",
             "linecolor": "white",
             "minorgridcolor": "white",
             "startlinecolor": "#2a3f5f"
            },
            "type": "carpet"
           }
          ],
          "choropleth": [
           {
            "colorbar": {
             "outlinewidth": 0,
             "ticks": ""
            },
            "type": "choropleth"
           }
          ],
          "contour": [
           {
            "colorbar": {
             "outlinewidth": 0,
             "ticks": ""
            },
            "colorscale": [
             [
              0,
              "#0d0887"
             ],
             [
              0.1111111111111111,
              "#46039f"
             ],
             [
              0.2222222222222222,
              "#7201a8"
             ],
             [
              0.3333333333333333,
              "#9c179e"
             ],
             [
              0.4444444444444444,
              "#bd3786"
             ],
             [
              0.5555555555555556,
              "#d8576b"
             ],
             [
              0.6666666666666666,
              "#ed7953"
             ],
             [
              0.7777777777777778,
              "#fb9f3a"
             ],
             [
              0.8888888888888888,
              "#fdca26"
             ],
             [
              1,
              "#f0f921"
             ]
            ],
            "type": "contour"
           }
          ],
          "contourcarpet": [
           {
            "colorbar": {
             "outlinewidth": 0,
             "ticks": ""
            },
            "type": "contourcarpet"
           }
          ],
          "heatmap": [
           {
            "colorbar": {
             "outlinewidth": 0,
             "ticks": ""
            },
            "colorscale": [
             [
              0,
              "#0d0887"
             ],
             [
              0.1111111111111111,
              "#46039f"
             ],
             [
              0.2222222222222222,
              "#7201a8"
             ],
             [
              0.3333333333333333,
              "#9c179e"
             ],
             [
              0.4444444444444444,
              "#bd3786"
             ],
             [
              0.5555555555555556,
              "#d8576b"
             ],
             [
              0.6666666666666666,
              "#ed7953"
             ],
             [
              0.7777777777777778,
              "#fb9f3a"
             ],
             [
              0.8888888888888888,
              "#fdca26"
             ],
             [
              1,
              "#f0f921"
             ]
            ],
            "type": "heatmap"
           }
          ],
          "heatmapgl": [
           {
            "colorbar": {
             "outlinewidth": 0,
             "ticks": ""
            },
            "colorscale": [
             [
              0,
              "#0d0887"
             ],
             [
              0.1111111111111111,
              "#46039f"
             ],
             [
              0.2222222222222222,
              "#7201a8"
             ],
             [
              0.3333333333333333,
              "#9c179e"
             ],
             [
              0.4444444444444444,
              "#bd3786"
             ],
             [
              0.5555555555555556,
              "#d8576b"
             ],
             [
              0.6666666666666666,
              "#ed7953"
             ],
             [
              0.7777777777777778,
              "#fb9f3a"
             ],
             [
              0.8888888888888888,
              "#fdca26"
             ],
             [
              1,
              "#f0f921"
             ]
            ],
            "type": "heatmapgl"
           }
          ],
          "histogram": [
           {
            "marker": {
             "colorbar": {
              "outlinewidth": 0,
              "ticks": ""
             }
            },
            "type": "histogram"
           }
          ],
          "histogram2d": [
           {
            "colorbar": {
             "outlinewidth": 0,
             "ticks": ""
            },
            "colorscale": [
             [
              0,
              "#0d0887"
             ],
             [
              0.1111111111111111,
              "#46039f"
             ],
             [
              0.2222222222222222,
              "#7201a8"
             ],
             [
              0.3333333333333333,
              "#9c179e"
             ],
             [
              0.4444444444444444,
              "#bd3786"
             ],
             [
              0.5555555555555556,
              "#d8576b"
             ],
             [
              0.6666666666666666,
              "#ed7953"
             ],
             [
              0.7777777777777778,
              "#fb9f3a"
             ],
             [
              0.8888888888888888,
              "#fdca26"
             ],
             [
              1,
              "#f0f921"
             ]
            ],
            "type": "histogram2d"
           }
          ],
          "histogram2dcontour": [
           {
            "colorbar": {
             "outlinewidth": 0,
             "ticks": ""
            },
            "colorscale": [
             [
              0,
              "#0d0887"
             ],
             [
              0.1111111111111111,
              "#46039f"
             ],
             [
              0.2222222222222222,
              "#7201a8"
             ],
             [
              0.3333333333333333,
              "#9c179e"
             ],
             [
              0.4444444444444444,
              "#bd3786"
             ],
             [
              0.5555555555555556,
              "#d8576b"
             ],
             [
              0.6666666666666666,
              "#ed7953"
             ],
             [
              0.7777777777777778,
              "#fb9f3a"
             ],
             [
              0.8888888888888888,
              "#fdca26"
             ],
             [
              1,
              "#f0f921"
             ]
            ],
            "type": "histogram2dcontour"
           }
          ],
          "mesh3d": [
           {
            "colorbar": {
             "outlinewidth": 0,
             "ticks": ""
            },
            "type": "mesh3d"
           }
          ],
          "parcoords": [
           {
            "line": {
             "colorbar": {
              "outlinewidth": 0,
              "ticks": ""
             }
            },
            "type": "parcoords"
           }
          ],
          "pie": [
           {
            "automargin": true,
            "type": "pie"
           }
          ],
          "scatter": [
           {
            "marker": {
             "colorbar": {
              "outlinewidth": 0,
              "ticks": ""
             }
            },
            "type": "scatter"
           }
          ],
          "scatter3d": [
           {
            "line": {
             "colorbar": {
              "outlinewidth": 0,
              "ticks": ""
             }
            },
            "marker": {
             "colorbar": {
              "outlinewidth": 0,
              "ticks": ""
             }
            },
            "type": "scatter3d"
           }
          ],
          "scattercarpet": [
           {
            "marker": {
             "colorbar": {
              "outlinewidth": 0,
              "ticks": ""
             }
            },
            "type": "scattercarpet"
           }
          ],
          "scattergeo": [
           {
            "marker": {
             "colorbar": {
              "outlinewidth": 0,
              "ticks": ""
             }
            },
            "type": "scattergeo"
           }
          ],
          "scattergl": [
           {
            "marker": {
             "colorbar": {
              "outlinewidth": 0,
              "ticks": ""
             }
            },
            "type": "scattergl"
           }
          ],
          "scattermapbox": [
           {
            "marker": {
             "colorbar": {
              "outlinewidth": 0,
              "ticks": ""
             }
            },
            "type": "scattermapbox"
           }
          ],
          "scatterpolar": [
           {
            "marker": {
             "colorbar": {
              "outlinewidth": 0,
              "ticks": ""
             }
            },
            "type": "scatterpolar"
           }
          ],
          "scatterpolargl": [
           {
            "marker": {
             "colorbar": {
              "outlinewidth": 0,
              "ticks": ""
             }
            },
            "type": "scatterpolargl"
           }
          ],
          "scatterternary": [
           {
            "marker": {
             "colorbar": {
              "outlinewidth": 0,
              "ticks": ""
             }
            },
            "type": "scatterternary"
           }
          ],
          "surface": [
           {
            "colorbar": {
             "outlinewidth": 0,
             "ticks": ""
            },
            "colorscale": [
             [
              0,
              "#0d0887"
             ],
             [
              0.1111111111111111,
              "#46039f"
             ],
             [
              0.2222222222222222,
              "#7201a8"
             ],
             [
              0.3333333333333333,
              "#9c179e"
             ],
             [
              0.4444444444444444,
              "#bd3786"
             ],
             [
              0.5555555555555556,
              "#d8576b"
             ],
             [
              0.6666666666666666,
              "#ed7953"
             ],
             [
              0.7777777777777778,
              "#fb9f3a"
             ],
             [
              0.8888888888888888,
              "#fdca26"
             ],
             [
              1,
              "#f0f921"
             ]
            ],
            "type": "surface"
           }
          ],
          "table": [
           {
            "cells": {
             "fill": {
              "color": "#EBF0F8"
             },
             "line": {
              "color": "white"
             }
            },
            "header": {
             "fill": {
              "color": "#C8D4E3"
             },
             "line": {
              "color": "white"
             }
            },
            "type": "table"
           }
          ]
         },
         "layout": {
          "annotationdefaults": {
           "arrowcolor": "#2a3f5f",
           "arrowhead": 0,
           "arrowwidth": 1
          },
          "coloraxis": {
           "colorbar": {
            "outlinewidth": 0,
            "ticks": ""
           }
          },
          "colorscale": {
           "diverging": [
            [
             0,
             "#8e0152"
            ],
            [
             0.1,
             "#c51b7d"
            ],
            [
             0.2,
             "#de77ae"
            ],
            [
             0.3,
             "#f1b6da"
            ],
            [
             0.4,
             "#fde0ef"
            ],
            [
             0.5,
             "#f7f7f7"
            ],
            [
             0.6,
             "#e6f5d0"
            ],
            [
             0.7,
             "#b8e186"
            ],
            [
             0.8,
             "#7fbc41"
            ],
            [
             0.9,
             "#4d9221"
            ],
            [
             1,
             "#276419"
            ]
           ],
           "sequential": [
            [
             0,
             "#0d0887"
            ],
            [
             0.1111111111111111,
             "#46039f"
            ],
            [
             0.2222222222222222,
             "#7201a8"
            ],
            [
             0.3333333333333333,
             "#9c179e"
            ],
            [
             0.4444444444444444,
             "#bd3786"
            ],
            [
             0.5555555555555556,
             "#d8576b"
            ],
            [
             0.6666666666666666,
             "#ed7953"
            ],
            [
             0.7777777777777778,
             "#fb9f3a"
            ],
            [
             0.8888888888888888,
             "#fdca26"
            ],
            [
             1,
             "#f0f921"
            ]
           ],
           "sequentialminus": [
            [
             0,
             "#0d0887"
            ],
            [
             0.1111111111111111,
             "#46039f"
            ],
            [
             0.2222222222222222,
             "#7201a8"
            ],
            [
             0.3333333333333333,
             "#9c179e"
            ],
            [
             0.4444444444444444,
             "#bd3786"
            ],
            [
             0.5555555555555556,
             "#d8576b"
            ],
            [
             0.6666666666666666,
             "#ed7953"
            ],
            [
             0.7777777777777778,
             "#fb9f3a"
            ],
            [
             0.8888888888888888,
             "#fdca26"
            ],
            [
             1,
             "#f0f921"
            ]
           ]
          },
          "colorway": [
           "#636efa",
           "#EF553B",
           "#00cc96",
           "#ab63fa",
           "#FFA15A",
           "#19d3f3",
           "#FF6692",
           "#B6E880",
           "#FF97FF",
           "#FECB52"
          ],
          "font": {
           "color": "#2a3f5f"
          },
          "geo": {
           "bgcolor": "white",
           "lakecolor": "white",
           "landcolor": "#E5ECF6",
           "showlakes": true,
           "showland": true,
           "subunitcolor": "white"
          },
          "hoverlabel": {
           "align": "left"
          },
          "hovermode": "closest",
          "mapbox": {
           "style": "light"
          },
          "paper_bgcolor": "white",
          "plot_bgcolor": "#E5ECF6",
          "polar": {
           "angularaxis": {
            "gridcolor": "white",
            "linecolor": "white",
            "ticks": ""
           },
           "bgcolor": "#E5ECF6",
           "radialaxis": {
            "gridcolor": "white",
            "linecolor": "white",
            "ticks": ""
           }
          },
          "scene": {
           "xaxis": {
            "backgroundcolor": "#E5ECF6",
            "gridcolor": "white",
            "gridwidth": 2,
            "linecolor": "white",
            "showbackground": true,
            "ticks": "",
            "zerolinecolor": "white"
           },
           "yaxis": {
            "backgroundcolor": "#E5ECF6",
            "gridcolor": "white",
            "gridwidth": 2,
            "linecolor": "white",
            "showbackground": true,
            "ticks": "",
            "zerolinecolor": "white"
           },
           "zaxis": {
            "backgroundcolor": "#E5ECF6",
            "gridcolor": "white",
            "gridwidth": 2,
            "linecolor": "white",
            "showbackground": true,
            "ticks": "",
            "zerolinecolor": "white"
           }
          },
          "shapedefaults": {
           "line": {
            "color": "#2a3f5f"
           }
          },
          "ternary": {
           "aaxis": {
            "gridcolor": "white",
            "linecolor": "white",
            "ticks": ""
           },
           "baxis": {
            "gridcolor": "white",
            "linecolor": "white",
            "ticks": ""
           },
           "bgcolor": "#E5ECF6",
           "caxis": {
            "gridcolor": "white",
            "linecolor": "white",
            "ticks": ""
           }
          },
          "title": {
           "x": 0.05
          },
          "xaxis": {
           "automargin": true,
           "gridcolor": "white",
           "linecolor": "white",
           "ticks": "",
           "title": {
            "standoff": 15
           },
           "zerolinecolor": "white",
           "zerolinewidth": 2
          },
          "yaxis": {
           "automargin": true,
           "gridcolor": "white",
           "linecolor": "white",
           "ticks": "",
           "title": {
            "standoff": 15
           },
           "zerolinecolor": "white",
           "zerolinewidth": 2
          }
         }
        },
        "title": {
         "text": "F1 test depends on Random forest params"
        },
        "width": 500
       }
      },
      "text/html": [
       "<div>                            <div id=\"00218123-ebc7-4d22-9c6a-b6df59255ae9\" class=\"plotly-graph-div\" style=\"height:500px; width:500px;\"></div>            <script type=\"text/javascript\">                require([\"plotly\"], function(Plotly) {                    window.PLOTLYENV=window.PLOTLYENV || {};                                    if (document.getElementById(\"00218123-ebc7-4d22-9c6a-b6df59255ae9\")) {                    Plotly.newPlot(                        \"00218123-ebc7-4d22-9c6a-b6df59255ae9\",                        [{\"type\": \"surface\", \"x\": [3, 4, 5, 7, 8, 10, 11, 13, 14, 16, 17, 18, 20, 21, 23, 24, 26, 27, 29, 30, 31, 33, 34, 36, 37, 39, 40, 42, 43, 45], \"y\": [5, 11, 18, 25, 31, 38, 45, 52, 58, 65, 72, 78, 85, 92, 99, 105, 112, 119, 126, 132, 139, 146, 152, 159, 166, 173, 179, 186, 193, 200], \"z\": [[0.7065527117157924, 0.6999514762912332, 0.7226662278616789, 0.7115489907983652, 0.7101335761991499, 0.7058299692540335, 0.7139131189665949, 0.7170985866453561, 0.7171175734316517, 0.7172672927264033, 0.7182412888857224, 0.7252904636479851, 0.7173543332901622, 0.7218060281964026, 0.7161858462393221, 0.7193630822102705, 0.714515757008963, 0.7150610843368932, 0.7200480350204383, 0.7176571019355137, 0.7138598372532933, 0.7163495997430557, 0.7163495997430557, 0.7199532033466592, 0.7223663307597867, 0.723556806950263, 0.7222682915441005, 0.7196907192629117, 0.7198105977227703, 0.7173974703096428], [0.71647385628454, 0.7475162922576134, 0.7456127987339737, 0.7523471585282608, 0.7467024690425854, 0.7427289617486338, 0.7365402052016226, 0.7344166944166944, 0.7261279751457564, 0.7292599735299679, 0.72811507191995, 0.7301869313482217, 0.726063877166631, 0.7273074357571981, 0.7265447466467958, 0.7277911902181277, 0.7294124159138958, 0.7262323494687131, 0.7274796335447498, 0.7306218762482828, 0.7307654900444274, 0.7279672299711674, 0.7255174242424243, 0.7286548726863687, 0.7307690348866819, 0.7319118920295391, 0.7319118920295391, 0.7319118920295391, 0.7342542847143244, 0.735434457806378], [0.72615052321506, 0.7359050393507076, 0.7477944069290251, 0.7454992319508449, 0.7429247092596953, 0.7401963344455729, 0.7417564376770075, 0.738959048415266, 0.7394313071231684, 0.7387076639047698, 0.7359124936547862, 0.7354287003539891, 0.7422501966955155, 0.7429852836278047, 0.7455443782548425, 0.7454760031471283, 0.744364205162789, 0.7394924506387921, 0.7422923457345172, 0.7410794425087108, 0.7374279345097599, 0.7373561603162114, 0.7418958300550748, 0.7442958300550747, 0.7431053538645985, 0.7432029148402084, 0.7444114980735815, 0.7431985948477751, 0.7444574461459655, 0.7444574461459655], [0.7396114693970315, 0.7503797015992137, 0.7569299542304163, 0.7588147492017903, 0.7478461948682363, 0.747572122203997, 0.7461379862968065, 0.7463552824573612, 0.7493881835665774, 0.7457702543607997, 0.7499678801019437, 0.7510830952925097, 0.7510335512606263, 0.748082812515843, 0.7505452980872166, 0.7521460015465898, 0.7530995926255045, 0.7552552998215344, 0.751837567463111, 0.7523193045191269, 0.7503785754344167, 0.7472202360450636, 0.7472202360450636, 0.7495211247267234, 0.7479089772645514, 0.7454846062922995, 0.7461720732410038, 0.7438103597357044, 0.7461720732410038, 0.7421944591728528], [0.7686745839699629, 0.745735802210452, 0.7456959133108539, 0.7619993033786139, 0.7640951936951936, 0.7508736845045719, 0.7561184247014754, 0.7580791358700589, 0.757516670755609, 0.7577696106623456, 0.7559401670481615, 0.7604919815571604, 0.7605492842341428, 0.7595976745382519, 0.7645812222022113, 0.761994365007513, 0.7614589422261904, 0.7603814184824216, 0.7572591727104481, 0.7590634752781095, 0.7577521718424945, 0.7597765762368304, 0.7565488468266415, 0.759274497510603, 0.7583142537639815, 0.7584843306976092, 0.7584843306976092, 0.7566800281299478, 0.7566800281299478, 0.7566800281299478], [0.7478352360659308, 0.7484935188650358, 0.7485723240711458, 0.7581071245168121, 0.7596916951661479, 0.7489490458802656, 0.7557495876058206, 0.7552795783722722, 0.7562320551025241, 0.7527951685174307, 0.7594934630302348, 0.7614978933886531, 0.7616448713187655, 0.761826236298522, 0.7631760561409889, 0.7618722434098041, 0.763432639205553, 0.764648780720202, 0.7671371772416011, 0.7644555921699108, 0.7649730569901775, 0.7650536514685243, 0.7661577321268516, 0.7644555921699108, 0.763479599102432, 0.7647837329606997, 0.7645105820105819, 0.7631816057790378, 0.7600767580879755, 0.7635144335511983], [0.7574477119595733, 0.7476948492550761, 0.7527868319374148, 0.7630007985800356, 0.7565442202655098, 0.7516394396211803, 0.7542588728574439, 0.7596178653661065, 0.7600983663352119, 0.751854683323953, 0.7575556640050125, 0.7594759583466104, 0.7602060342018098, 0.765380741002673, 0.7668900172209785, 0.7687377276329779, 0.7687870675390813, 0.7632022512337473, 0.7664707462289139, 0.7658534012778665, 0.7658534012778665, 0.7658076256818516, 0.7646230526790967, 0.7639191189316847, 0.7659705257184626, 0.7659705257184626, 0.7648811115355233, 0.7649028980278981, 0.7618508085052204, 0.7617637520999242], [0.7492195705728947, 0.7547208487021944, 0.7506518372898177, 0.7566757722034981, 0.7537494950472443, 0.7585345820939641, 0.7609252647890512, 0.7597227520277092, 0.7569445003680993, 0.759934833800034, 0.7659330111291687, 0.767142755964166, 0.7707665867239358, 0.7650754510052674, 0.756324889771957, 0.7570986393405613, 0.7578142438607195, 0.7635978069339239, 0.7594289663578844, 0.7624923608058413, 0.7671550011325509, 0.7665646129712772, 0.7636304179796658, 0.7624676272819915, 0.7634396129712772, 0.7647924135183993, 0.7665695837166222, 0.7701927721224193, 0.7701927721224193, 0.7713692427106545], [0.7442846246049907, 0.7519240803895135, 0.7730665031782078, 0.7637274026643591, 0.7649506846763778, 0.7659129590291439, 0.7655093905103675, 0.764987739639433, 0.7658448933594566, 0.7608235381278282, 0.7678761852056816, 0.7658198645788801, 0.7657354607633622, 0.7664722343569872, 0.7687578962885807, 0.7639265872467453, 0.7679769539583661, 0.7697703018887175, 0.7675298085690875, 0.7646067731372506, 0.763537913938895, 0.7668985497036888, 0.7680496288403794, 0.7646726657119446, 0.7640753045404207, 0.7657415249103003, 0.7634157921848432, 0.7669807696420237, 0.7662098714864063, 0.7649754421294318], [0.7271177794317998, 0.7504013089179795, 0.7544065819488346, 0.7528378063834097, 0.7509397781956186, 0.7510144254836805, 0.7563919448561374, 0.7541782813715832, 0.7559345922241073, 0.7565430967995024, 0.7633354790602758, 0.7590179332786683, 0.7588490221556146, 0.7549547913863838, 0.7592216986037095, 0.7552538876823126, 0.7540598578315663, 0.7589020182840291, 0.757023098918717, 0.7551604817317423, 0.7592568632133863, 0.7604118784109547, 0.7575547355538118, 0.7587058146905024, 0.7563489941420817, 0.7540660353582391, 0.7552538876823126, 0.754119135909263, 0.7563075857572873, 0.7563075857572873], [0.7269720004334546, 0.7413671894287913, 0.7476482730698557, 0.7526226584650725, 0.7391215113427295, 0.746401147266617, 0.7502178836103294, 0.7563400860972485, 0.7594055113369864, 0.7613552073940941, 0.760464597673808, 0.7623634272559008, 0.7655248417862482, 0.7584034458776936, 0.7584034458776936, 0.7593119571050446, 0.7540999522759908, 0.7548492117644624, 0.7538744980669174, 0.7531727116599651, 0.7556891500827687, 0.7560805528730328, 0.7539214165275709, 0.7548644113583837, 0.7537296595853341, 0.7547685168423512, 0.755903268615401, 0.755903268615401, 0.7524253581517236, 0.754705011534791], [0.7331627641349623, 0.7405072444166427, 0.7482997466301814, 0.7625670361105868, 0.7489294971396125, 0.7482487536929978, 0.7522843480805321, 0.7531106767821096, 0.7554422007848407, 0.7539197156081163, 0.7635135141087176, 0.757923050414407, 0.7593183894904147, 0.7529022020560582, 0.7562116906288943, 0.7573627042121595, 0.7620393765945285, 0.7576957722561531, 0.7583629787195882, 0.7594644736055048, 0.7594644736055048, 0.7616661215601965, 0.7606272643031792, 0.758884344913201, 0.7577215542155267, 0.7576155098625261, 0.7587604114725439, 0.7570543477520916, 0.7558560906714816, 0.754705011534791], [0.7292436908142244, 0.7494685075353121, 0.7502324543304, 0.7604689506136029, 0.7521660049364739, 0.7451094584091061, 0.7518780110563643, 0.7492161315975185, 0.750396661119411, 0.7547931595393345, 0.7583205650056618, 0.7543208019186366, 0.7561188240942434, 0.7560236098611538, 0.7592968349740659, 0.7552438140267927, 0.7568047991653625, 0.7527666276122009, 0.756070886904347, 0.7533444314598814, 0.7529553936489544, 0.7595621841504172, 0.756219015785816, 0.7550028742711671, 0.7527053318004429, 0.7548644113583837, 0.7538400835734926, 0.7560154904950743, 0.7536661542777738, 0.7548172334144644], [0.7287714258902037, 0.7491931722926556, 0.7479557053562421, 0.7582024822810897, 0.7543775433980124, 0.745095756129199, 0.7540578988422165, 0.7491233860342555, 0.752106597518118, 0.7536453109182247, 0.7599381339735738, 0.7571231696813092, 0.7569996749852865, 0.7547860601000866, 0.7550679159514507, 0.753199799230383, 0.753895187019374, 0.7537629164724671, 0.7527450210438971, 0.7533015653728181, 0.7529553936489544, 0.7539214733150919, 0.7528027039613809, 0.750576461436631, 0.7538400835734926, 0.751695230790342, 0.7560154904950743, 0.7548644113583837, 0.7525314025047241, 0.7558560906714816], [0.7298327857575337, 0.7485096019085724, 0.7495136498992614, 0.7567197609901835, 0.7503443133548768, 0.7432169181860125, 0.7532948619716445, 0.7471889076000078, 0.7509349633968437, 0.7536453109182247, 0.7587831187760055, 0.7553542365690925, 0.7530038529975018, 0.7547860601000866, 0.7538738861007046, 0.752151495016611, 0.753895187019374, 0.7526281646994175, 0.7527450210438971, 0.7522772375879271, 0.7539654946590554, 0.7539214733150919, 0.7528027039613809, 0.7515865624467319, 0.7527053318004429, 0.7527053318004429, 0.7538400835734926, 0.755903268615401, 0.7525314025047241, 0.754705011534791], [0.7298327857575337, 0.7485096019085724, 0.7513363885641053, 0.7602928048617348, 0.7521670520197208, 0.7490070634472465, 0.7532948619716445, 0.7506860160965794, 0.7509349633968437, 0.7536453109182247, 0.7587831187760055, 0.7565053157057832, 0.7547948977736212, 0.7547860601000866, 0.7538738861007046, 0.752151495016611, 0.753895187019374, 0.7526281646994175, 0.7527450210438971, 0.7522772375879271, 0.7539654946590554, 0.7550562250881414, 0.7528027039613809, 0.7515865624467319, 0.7527053318004429, 0.7515865624467319, 0.7527053318004429, 0.7536497474886403, 0.7514126331510131, 0.7535702597617414], [0.7298327857575337, 0.7485096019085724, 0.7501468475473844, 0.7582024822810897, 0.7521670520197208, 0.7468745831060498, 0.7532948619716445, 0.7506860160965794, 0.7509349633968437, 0.7536453109182247, 0.7587831187760055, 0.7565053157057832, 0.7547948977736212, 0.7536672907463757, 0.7538738861007046, 0.752151495016611, 0.753895187019374, 0.7526281646994175, 0.7527450210438971, 0.7522772375879271, 0.7539654946590554, 0.7550562250881414, 0.7528027039613809, 0.7515865624467319, 0.7527053318004429, 0.7515865624467319, 0.7527053318004429, 0.7536497474886403, 0.7514126331510131, 0.7535702597617414], [0.7298327857575337, 0.7485096019085724, 0.7483288697671129, 0.7564293928410716, 0.7521670520197208, 0.7433309281531557, 0.7532948619716445, 0.7489799523761271, 0.7509349633968437, 0.7536453109182247, 0.7570809911164309, 0.7565053157057832, 0.7547948977736212, 0.7536672907463757, 0.7538738861007046, 0.752151495016611, 0.753895187019374, 0.7526281646994175, 0.7527450210438971, 0.7522772375879271, 0.7539654946590554, 0.7550562250881414, 0.7528027039613809, 0.7515865624467319, 0.7527053318004429, 0.7515865624467319, 0.7527053318004429, 0.7536497474886403, 0.7514126331510131, 0.7535702597617414], [0.7298327857575337, 0.7485096019085724, 0.7483288697671129, 0.7564293928410716, 0.7521670520197208, 0.7433309281531557, 0.7532948619716445, 0.7489799523761271, 0.7509349633968437, 0.7536453109182247, 0.7570809911164309, 0.7565053157057832, 0.7547948977736212, 0.7536672907463757, 0.7538738861007046, 0.752151495016611, 0.753895187019374, 0.7526281646994175, 0.7527450210438971, 0.7522772375879271, 0.7539654946590554, 0.7550562250881414, 0.7528027039613809, 0.7515865624467319, 0.7527053318004429, 0.7515865624467319, 0.7527053318004429, 0.7536497474886403, 0.7514126331510131, 0.7535702597617414], [0.7298327857575337, 0.7485096019085724, 0.7483288697671129, 0.7564293928410716, 0.7521670520197208, 0.7433309281531557, 0.7532948619716445, 0.7489799523761271, 0.7509349633968437, 0.7536453109182247, 0.7570809911164309, 0.7565053157057832, 0.7547948977736212, 0.7536672907463757, 0.7538738861007046, 0.752151495016611, 0.753895187019374, 0.7526281646994175, 0.7527450210438971, 0.7522772375879271, 0.7539654946590554, 0.7550562250881414, 0.7528027039613809, 0.7515865624467319, 0.7527053318004429, 0.7515865624467319, 0.7527053318004429, 0.7536497474886403, 0.7514126331510131, 0.7535702597617414], [0.7298327857575337, 0.7485096019085724, 0.7483288697671129, 0.7564293928410716, 0.7521670520197208, 0.7433309281531557, 0.7532948619716445, 0.7489799523761271, 0.7509349633968437, 0.7536453109182247, 0.7570809911164309, 0.7565053157057832, 0.7547948977736212, 0.7536672907463757, 0.7538738861007046, 0.752151495016611, 0.753895187019374, 0.7526281646994175, 0.7527450210438971, 0.7522772375879271, 0.7539654946590554, 0.7550562250881414, 0.7528027039613809, 0.7515865624467319, 0.7527053318004429, 0.7515865624467319, 0.7527053318004429, 0.7536497474886403, 0.7514126331510131, 0.7535702597617414], [0.7298327857575337, 0.7485096019085724, 0.7483288697671129, 0.7564293928410716, 0.7521670520197208, 0.7433309281531557, 0.7532948619716445, 0.7489799523761271, 0.7509349633968437, 0.7536453109182247, 0.7570809911164309, 0.7565053157057832, 0.7547948977736212, 0.7536672907463757, 0.7538738861007046, 0.752151495016611, 0.753895187019374, 0.7526281646994175, 0.7527450210438971, 0.7522772375879271, 0.7539654946590554, 0.7550562250881414, 0.7528027039613809, 0.7515865624467319, 0.7527053318004429, 0.7515865624467319, 0.7527053318004429, 0.7536497474886403, 0.7514126331510131, 0.7535702597617414], [0.7298327857575337, 0.7485096019085724, 0.7483288697671129, 0.7564293928410716, 0.7521670520197208, 0.7433309281531557, 0.7532948619716445, 0.7489799523761271, 0.7509349633968437, 0.7536453109182247, 0.7570809911164309, 0.7565053157057832, 0.7547948977736212, 0.7536672907463757, 0.7538738861007046, 0.752151495016611, 0.753895187019374, 0.7526281646994175, 0.7527450210438971, 0.7522772375879271, 0.7539654946590554, 0.7550562250881414, 0.7528027039613809, 0.7515865624467319, 0.7527053318004429, 0.7515865624467319, 0.7527053318004429, 0.7536497474886403, 0.7514126331510131, 0.7535702597617414], [0.7298327857575337, 0.7485096019085724, 0.7483288697671129, 0.7564293928410716, 0.7521670520197208, 0.7433309281531557, 0.7532948619716445, 0.7489799523761271, 0.7509349633968437, 0.7536453109182247, 0.7570809911164309, 0.7565053157057832, 0.7547948977736212, 0.7536672907463757, 0.7538738861007046, 0.752151495016611, 0.753895187019374, 0.7526281646994175, 0.7527450210438971, 0.7522772375879271, 0.7539654946590554, 0.7550562250881414, 0.7528027039613809, 0.7515865624467319, 0.7527053318004429, 0.7515865624467319, 0.7527053318004429, 0.7536497474886403, 0.7514126331510131, 0.7535702597617414], [0.7298327857575337, 0.7485096019085724, 0.7483288697671129, 0.7564293928410716, 0.7521670520197208, 0.7433309281531557, 0.7532948619716445, 0.7489799523761271, 0.7509349633968437, 0.7536453109182247, 0.7570809911164309, 0.7565053157057832, 0.7547948977736212, 0.7536672907463757, 0.7538738861007046, 0.752151495016611, 0.753895187019374, 0.7526281646994175, 0.7527450210438971, 0.7522772375879271, 0.7539654946590554, 0.7550562250881414, 0.7528027039613809, 0.7515865624467319, 0.7527053318004429, 0.7515865624467319, 0.7527053318004429, 0.7536497474886403, 0.7514126331510131, 0.7535702597617414], [0.7298327857575337, 0.7485096019085724, 0.7483288697671129, 0.7564293928410716, 0.7521670520197208, 0.7433309281531557, 0.7532948619716445, 0.7489799523761271, 0.7509349633968437, 0.7536453109182247, 0.7570809911164309, 0.7565053157057832, 0.7547948977736212, 0.7536672907463757, 0.7538738861007046, 0.752151495016611, 0.753895187019374, 0.7526281646994175, 0.7527450210438971, 0.7522772375879271, 0.7539654946590554, 0.7550562250881414, 0.7528027039613809, 0.7515865624467319, 0.7527053318004429, 0.7515865624467319, 0.7527053318004429, 0.7536497474886403, 0.7514126331510131, 0.7535702597617414], [0.7298327857575337, 0.7485096019085724, 0.7483288697671129, 0.7564293928410716, 0.7521670520197208, 0.7433309281531557, 0.7532948619716445, 0.7489799523761271, 0.7509349633968437, 0.7536453109182247, 0.7570809911164309, 0.7565053157057832, 0.7547948977736212, 0.7536672907463757, 0.7538738861007046, 0.752151495016611, 0.753895187019374, 0.7526281646994175, 0.7527450210438971, 0.7522772375879271, 0.7539654946590554, 0.7550562250881414, 0.7528027039613809, 0.7515865624467319, 0.7527053318004429, 0.7515865624467319, 0.7527053318004429, 0.7536497474886403, 0.7514126331510131, 0.7535702597617414], [0.7298327857575337, 0.7485096019085724, 0.7483288697671129, 0.7564293928410716, 0.7521670520197208, 0.7433309281531557, 0.7532948619716445, 0.7489799523761271, 0.7509349633968437, 0.7536453109182247, 0.7570809911164309, 0.7565053157057832, 0.7547948977736212, 0.7536672907463757, 0.7538738861007046, 0.752151495016611, 0.753895187019374, 0.7526281646994175, 0.7527450210438971, 0.7522772375879271, 0.7539654946590554, 0.7550562250881414, 0.7528027039613809, 0.7515865624467319, 0.7527053318004429, 0.7515865624467319, 0.7527053318004429, 0.7536497474886403, 0.7514126331510131, 0.7535702597617414], [0.7298327857575337, 0.7485096019085724, 0.7483288697671129, 0.7564293928410716, 0.7521670520197208, 0.7433309281531557, 0.7532948619716445, 0.7489799523761271, 0.7509349633968437, 0.7536453109182247, 0.7570809911164309, 0.7565053157057832, 0.7547948977736212, 0.7536672907463757, 0.7538738861007046, 0.752151495016611, 0.753895187019374, 0.7526281646994175, 0.7527450210438971, 0.7522772375879271, 0.7539654946590554, 0.7550562250881414, 0.7528027039613809, 0.7515865624467319, 0.7527053318004429, 0.7515865624467319, 0.7527053318004429, 0.7536497474886403, 0.7514126331510131, 0.7535702597617414], [0.7298327857575337, 0.7485096019085724, 0.7483288697671129, 0.7564293928410716, 0.7521670520197208, 0.7433309281531557, 0.7532948619716445, 0.7489799523761271, 0.7509349633968437, 0.7536453109182247, 0.7570809911164309, 0.7565053157057832, 0.7547948977736212, 0.7536672907463757, 0.7538738861007046, 0.752151495016611, 0.753895187019374, 0.7526281646994175, 0.7527450210438971, 0.7522772375879271, 0.7539654946590554, 0.7550562250881414, 0.7528027039613809, 0.7515865624467319, 0.7527053318004429, 0.7515865624467319, 0.7527053318004429, 0.7536497474886403, 0.7514126331510131, 0.7535702597617414]]}, {\"type\": \"surface\", \"x\": [3, 4, 5, 7, 8, 10, 11, 13, 14, 16, 17, 18, 20, 21, 23, 24, 26, 27, 29, 30, 31, 33, 34, 36, 37, 39, 40, 42, 43, 45], \"y\": [5, 11, 18, 25, 31, 38, 45, 52, 58, 65, 72, 78, 85, 92, 99, 105, 112, 119, 126, 132, 139, 146, 152, 159, 166, 173, 179, 186, 193, 200], \"z\": [[0.7396541687385311, 0.7424773990518312, 0.748290513387641, 0.7333992952096238, 0.7342979301854582, 0.7350805563003606, 0.745981249777904, 0.7461507788319708, 0.7479632031720513, 0.7461890112367009, 0.751126890817443, 0.7523266387548642, 0.7494275753865456, 0.7478528372274622, 0.7482100217698304, 0.7505163754354328, 0.7465288948434559, 0.7457655921584889, 0.7442906629571547, 0.743840251173119, 0.7419495088009762, 0.7414147109055398, 0.7411995537816789, 0.7411943223043642, 0.7405700310534948, 0.7411943223043642, 0.7436965809361159, 0.7451601401053891, 0.7447922430602674, 0.7453316210462526], [0.7662087623825902, 0.7632506241849414, 0.7736550107781452, 0.7758321058026592, 0.7733530191070186, 0.7744247322724964, 0.7726294874527776, 0.771598203160264, 0.7735588279574304, 0.7726999049940995, 0.7740802514919283, 0.7749107253470544, 0.7738274505983507, 0.774519335285084, 0.7706219812668508, 0.7736029380338292, 0.7753083186219806, 0.7742639161384226, 0.7728822024393861, 0.7734322830023973, 0.7732338384785049, 0.7697473277305809, 0.7719898328777054, 0.7707318530696232, 0.7711229254427533, 0.7688581748508733, 0.7701281947303855, 0.7719168391534836, 0.769941323857191, 0.771542869348498], [0.780461489994401, 0.7850250621069119, 0.7949273971574441, 0.7896191306510038, 0.7912801406504106, 0.7897090396379535, 0.7839526989029464, 0.7877271367508745, 0.7896907991071804, 0.7853577626063657, 0.7849418497652417, 0.7886480935536596, 0.7864660549483437, 0.7882874501429779, 0.7859782051478219, 0.7860783889849168, 0.7883459963478113, 0.7837780538328504, 0.7843145699298166, 0.7838160106815425, 0.7842766130811245, 0.7839011310997944, 0.7847201659383682, 0.7861890455584645, 0.7853817141270694, 0.7856002526250423, 0.7860238705649333, 0.7889494426364931, 0.7875517638575468, 0.7872702652834526], [0.8342476753466791, 0.8422763188065387, 0.8529175616617699, 0.8538451064819558, 0.8508654469125952, 0.8594927250210818, 0.8554060273107191, 0.8587817304145077, 0.8621248932964614, 0.8614537697538818, 0.86276809048398, 0.8628092429282734, 0.8623769353006466, 0.8624609261731001, 0.8621462203363194, 0.8635301366676768, 0.8642052204749554, 0.8622844870935216, 0.8608663066013429, 0.8621900535929106, 0.8627067721148004, 0.8632666391042875, 0.8639647357556761, 0.8612399280193349, 0.8616955524399319, 0.8620407301601904, 0.8615860874982338, 0.8605197664783463, 0.8612265836902694, 0.8599811939411491], [0.8576515653555055, 0.8686117429123457, 0.8789940574352846, 0.8828474642098175, 0.8829097101916578, 0.8806559312256782, 0.881738558527346, 0.886569610188461, 0.8878582968534126, 0.8861783136530871, 0.8911723158610558, 0.890117916573214, 0.890038301316072, 0.8905524050148259, 0.8914043771514211, 0.8913435239718475, 0.8924990163196069, 0.8913631745095223, 0.8923020019641777, 0.8911748430232805, 0.8924814735713198, 0.8918967497335313, 0.890240271353694, 0.8913898612064941, 0.891383013926778, 0.891383013926778, 0.891462902256755, 0.8915425022605155, 0.8923179972508948, 0.8931191802759694], [0.8880837793698955, 0.9053432797486496, 0.9192723637211355, 0.9195916164844877, 0.9226271917715729, 0.9229952607472072, 0.9253556519295882, 0.9270727714724254, 0.9287179812065401, 0.9254549458145529, 0.9262647446709661, 0.9254422761617016, 0.9250476305720824, 0.9274500868186243, 0.9278770773264003, 0.9271588484789726, 0.9272067491763218, 0.926641773192977, 0.9277078783810035, 0.9274045586872118, 0.9283286553869363, 0.9286280207837265, 0.929855761082641, 0.929855761082641, 0.9294340409803967, 0.9294537738032137, 0.9294455136888109, 0.9294440485195473, 0.9298000846506213, 0.930978586431554], [0.9063857805099442, 0.920726166639974, 0.9322369633506863, 0.9355447377899985, 0.9370933303965666, 0.9355060548576392, 0.9369923337917674, 0.9370523847928428, 0.9381702539484504, 0.9402624202817333, 0.9410607118545824, 0.9410636657106227, 0.9411492553004568, 0.9418592479451183, 0.9418656302669683, 0.9411027191118875, 0.9422205153585004, 0.9414590471944513, 0.942441683005446, 0.9428458996539375, 0.942497266739497, 0.9432813690786302, 0.9436826498570262, 0.9428832479810764, 0.9424246367983897, 0.9420295119005466, 0.9424368289558493, 0.9428775561926035, 0.9424246367983897, 0.9436419329122376], [0.9220721635425022, 0.9427474570980895, 0.947585730356933, 0.9537282956725361, 0.9576455655166847, 0.9587279354801101, 0.9570850653751155, 0.9586881007572172, 0.9586626108873743, 0.9598008068349078, 0.960520502817612, 0.960904018563218, 0.9601282793210174, 0.9605325314037909, 0.9609366559840635, 0.9609364960717756, 0.9609098439001496, 0.9612861112448327, 0.9620692177088304, 0.9612861112448327, 0.9612977839446781, 0.9612977839446781, 0.9609321788515792, 0.9605369219345832, 0.9605323884879313, 0.9609009851428165, 0.9605456296855721, 0.9609291454311778, 0.9609291454311778, 0.9605456296855721], [0.9271708481392068, 0.9460180470617537, 0.9565815579603699, 0.961546445918325, 0.9634985757829224, 0.9614203846349021, 0.9614244369963639, 0.9629881524410401, 0.9637430530962053, 0.9648252400164274, 0.9659761256719733, 0.9659495861911139, 0.9663668774106069, 0.9663668774106069, 0.9663374191569158, 0.9667487730811072, 0.9667487730811072, 0.9667768829356367, 0.9671381141636447, 0.9671381141636447, 0.9663695935223966, 0.9663638728021237, 0.9663875418530992, 0.9663610882078913, 0.9663610882078913, 0.9663374191569158, 0.9659702806805986, 0.9663610882078913, 0.9663610882078913, 0.9663610882078913], [0.9336980355410136, 0.954893781606614, 0.9671187570435116, 0.9715528454444419, 0.972763878982352, 0.9741695150336671, 0.9730305268759738, 0.9730043069142189, 0.9726278991972503, 0.9745008206940252, 0.9740294159808057, 0.9743963714174194, 0.9747779783111286, 0.9740341863410844, 0.9747813623506041, 0.9751876397943822, 0.9744304057541189, 0.9759517962027466, 0.9759517962027466, 0.9755682804571408, 0.9770882847025533, 0.9767118680808589, 0.9767225852395642, 0.976343289066444, 0.9767197056881383, 0.9770839978405046, 0.9770989759010501, 0.9774825329760104, 0.9771032627630987, 0.9771032627630987], [0.9378997551368897, 0.9579230857046781, 0.9674744970118014, 0.9730712606201187, 0.9735340422266958, 0.9742775371473369, 0.9745893730680514, 0.9749031653067999, 0.9756614884255683, 0.9771443235437353, 0.9767227202758113, 0.9778439577527843, 0.9778439577527843, 0.9778439577527843, 0.9774441467045809, 0.9774441467045809, 0.97745115767529, 0.9782040944410273, 0.978581965132858, 0.978581965132858, 0.978581965132858, 0.9789640963450863, 0.9789790744056315, 0.9789790744056315, 0.9789790744056315, 0.97897626117858, 0.9789912392391255, 0.9789912392391255, 0.9789912392391255, 0.979367718142036], [0.9402714940572178, 0.9580078469797133, 0.9686132859589028, 0.9734978606015323, 0.9731820167587617, 0.974277694425296, 0.9750066143497135, 0.9757038123937523, 0.9768099838105956, 0.9779191194226039, 0.9782454001133287, 0.97824536474637, 0.9790024729918055, 0.9797568225865468, 0.9789669389389077, 0.9793626423393554, 0.9793448096307384, 0.979721288533649, 0.979721288533649, 0.979721288533649, 0.979721288533649, 0.979721288533649, 0.9797362665941944, 0.9797362665941944, 0.9797362665941944, 0.9797334533671428, 0.9797484314276883, 0.9797484314276883, 0.9797484314276883, 0.9797484314276883], [0.9400439387675199, 0.9624753349382678, 0.9701283229502193, 0.9750247427871755, 0.974711809378198, 0.9765532879141811, 0.9768696791684764, 0.9783334356065831, 0.9787070457996488, 0.979427708681367, 0.9793979773910102, 0.9797892621425305, 0.9797716907163728, 0.9797568225865468, 0.979721288533649, 0.9797568225865468, 0.9797334533671428, 0.9797334533671428, 0.979721288533649, 0.979721288533649, 0.9797334533671428, 0.9797334533671428, 0.9797484314276883, 0.9797484314276883, 0.9797632995575141, 0.9797334533671428, 0.9797484314276883, 0.9797484314276883, 0.9797484314276883, 0.9797484314276883], [0.9387987082426408, 0.9624753349382678, 0.9697695504160985, 0.9753998102453515, 0.9750882882811087, 0.9765532879141811, 0.9768696791684764, 0.9783334356065831, 0.9783173368950144, 0.9794424680862945, 0.9797892621425305, 0.9797743940127047, 0.9797568225865468, 0.9797568225865468, 0.979721288533649, 0.979739121242266, 0.9797334533671428, 0.9797334533671428, 0.979721288533649, 0.9797065291287215, 0.9797334533671428, 0.9797334533671428, 0.9797484314276883, 0.9797484314276883, 0.9797632995575141, 0.9797334533671428, 0.9797484314276883, 0.9797484314276883, 0.9797484314276883, 0.9797484314276883], [0.9395767623053665, 0.9625037195497536, 0.9701283229502193, 0.9753998102453515, 0.9751070043582188, 0.9765720039912912, 0.9768509630913662, 0.9783334356065831, 0.9787070457996488, 0.9794424680862945, 0.9797743940127047, 0.9797892621425305, 0.9797716907163728, 0.9797568225865468, 0.979739121242266, 0.9797568225865468, 0.9797512860757598, 0.9797334533671428, 0.979721288533649, 0.9797065291287215, 0.9797334533671428, 0.9797334533671428, 0.9797484314276883, 0.9797484314276883, 0.9797632995575141, 0.9797334533671428, 0.9797484314276883, 0.9797484314276883, 0.9797484314276883, 0.9797484314276883], [0.9395767623053665, 0.9625037195497536, 0.9697695504160985, 0.9753998102453515, 0.9751070043582188, 0.9765720039912912, 0.9768509630913662, 0.9783334356065831, 0.9787070457996488, 0.9794424680862945, 0.9797743940127047, 0.9797892621425305, 0.9797716907163728, 0.9797568225865468, 0.979739121242266, 0.9797568225865468, 0.9797512860757598, 0.9797334533671428, 0.979721288533649, 0.9797065291287215, 0.9797334533671428, 0.9797334533671428, 0.9797484314276883, 0.9797484314276883, 0.9797632995575141, 0.9797334533671428, 0.9797484314276883, 0.9797484314276883, 0.9797484314276883, 0.9797484314276883], [0.9395767623053665, 0.9625037195497536, 0.9697695504160985, 0.9753998102453515, 0.9751070043582188, 0.9765720039912912, 0.9768509630913662, 0.9783334356065831, 0.9787070457996488, 0.9794424680862945, 0.9797743940127047, 0.9797892621425305, 0.9797716907163728, 0.9797568225865468, 0.979739121242266, 0.9797568225865468, 0.9797512860757598, 0.9797334533671428, 0.979721288533649, 0.9797065291287215, 0.9797334533671428, 0.9797334533671428, 0.9797484314276883, 0.9797484314276883, 0.9797632995575141, 0.9797334533671428, 0.9797484314276883, 0.9797484314276883, 0.9797484314276883, 0.9797484314276883], [0.9395767623053665, 0.9625037195497536, 0.9697695504160985, 0.9753998102453515, 0.9751070043582188, 0.9765720039912912, 0.9768509630913662, 0.9783334356065831, 0.9787070457996488, 0.9794424680862945, 0.9797743940127047, 0.9797892621425305, 0.9797716907163728, 0.9797568225865468, 0.979739121242266, 0.9797568225865468, 0.9797512860757598, 0.9797334533671428, 0.979721288533649, 0.9797065291287215, 0.9797334533671428, 0.9797334533671428, 0.9797484314276883, 0.9797484314276883, 0.9797632995575141, 0.9797334533671428, 0.9797484314276883, 0.9797484314276883, 0.9797484314276883, 0.9797484314276883], [0.9395767623053665, 0.9625037195497536, 0.9697695504160985, 0.9753998102453515, 0.9751070043582188, 0.9765720039912912, 0.9768509630913662, 0.9783334356065831, 0.9787070457996488, 0.9794424680862945, 0.9797743940127047, 0.9797892621425305, 0.9797716907163728, 0.9797568225865468, 0.979739121242266, 0.9797568225865468, 0.9797512860757598, 0.9797334533671428, 0.979721288533649, 0.9797065291287215, 0.9797334533671428, 0.9797334533671428, 0.9797484314276883, 0.9797484314276883, 0.9797632995575141, 0.9797334533671428, 0.9797484314276883, 0.9797484314276883, 0.9797484314276883, 0.9797484314276883], [0.9395767623053665, 0.9625037195497536, 0.9697695504160985, 0.9753998102453515, 0.9751070043582188, 0.9765720039912912, 0.9768509630913662, 0.9783334356065831, 0.9787070457996488, 0.9794424680862945, 0.9797743940127047, 0.9797892621425305, 0.9797716907163728, 0.9797568225865468, 0.979739121242266, 0.9797568225865468, 0.9797512860757598, 0.9797334533671428, 0.979721288533649, 0.9797065291287215, 0.9797334533671428, 0.9797334533671428, 0.9797484314276883, 0.9797484314276883, 0.9797632995575141, 0.9797334533671428, 0.9797484314276883, 0.9797484314276883, 0.9797484314276883, 0.9797484314276883], [0.9395767623053665, 0.9625037195497536, 0.9697695504160985, 0.9753998102453515, 0.9751070043582188, 0.9765720039912912, 0.9768509630913662, 0.9783334356065831, 0.9787070457996488, 0.9794424680862945, 0.9797743940127047, 0.9797892621425305, 0.9797716907163728, 0.9797568225865468, 0.979739121242266, 0.9797568225865468, 0.9797512860757598, 0.9797334533671428, 0.979721288533649, 0.9797065291287215, 0.9797334533671428, 0.9797334533671428, 0.9797484314276883, 0.9797484314276883, 0.9797632995575141, 0.9797334533671428, 0.9797484314276883, 0.9797484314276883, 0.9797484314276883, 0.9797484314276883], [0.9395767623053665, 0.9625037195497536, 0.9697695504160985, 0.9753998102453515, 0.9751070043582188, 0.9765720039912912, 0.9768509630913662, 0.9783334356065831, 0.9787070457996488, 0.9794424680862945, 0.9797743940127047, 0.9797892621425305, 0.9797716907163728, 0.9797568225865468, 0.979739121242266, 0.9797568225865468, 0.9797512860757598, 0.9797334533671428, 0.979721288533649, 0.9797065291287215, 0.9797334533671428, 0.9797334533671428, 0.9797484314276883, 0.9797484314276883, 0.9797632995575141, 0.9797334533671428, 0.9797484314276883, 0.9797484314276883, 0.9797484314276883, 0.9797484314276883], [0.9395767623053665, 0.9625037195497536, 0.9697695504160985, 0.9753998102453515, 0.9751070043582188, 0.9765720039912912, 0.9768509630913662, 0.9783334356065831, 0.9787070457996488, 0.9794424680862945, 0.9797743940127047, 0.9797892621425305, 0.9797716907163728, 0.9797568225865468, 0.979739121242266, 0.9797568225865468, 0.9797512860757598, 0.9797334533671428, 0.979721288533649, 0.9797065291287215, 0.9797334533671428, 0.9797334533671428, 0.9797484314276883, 0.9797484314276883, 0.9797632995575141, 0.9797334533671428, 0.9797484314276883, 0.9797484314276883, 0.9797484314276883, 0.9797484314276883], [0.9395767623053665, 0.9625037195497536, 0.9697695504160985, 0.9753998102453515, 0.9751070043582188, 0.9765720039912912, 0.9768509630913662, 0.9783334356065831, 0.9787070457996488, 0.9794424680862945, 0.9797743940127047, 0.9797892621425305, 0.9797716907163728, 0.9797568225865468, 0.979739121242266, 0.9797568225865468, 0.9797512860757598, 0.9797334533671428, 0.979721288533649, 0.9797065291287215, 0.9797334533671428, 0.9797334533671428, 0.9797484314276883, 0.9797484314276883, 0.9797632995575141, 0.9797334533671428, 0.9797484314276883, 0.9797484314276883, 0.9797484314276883, 0.9797484314276883], [0.9395767623053665, 0.9625037195497536, 0.9697695504160985, 0.9753998102453515, 0.9751070043582188, 0.9765720039912912, 0.9768509630913662, 0.9783334356065831, 0.9787070457996488, 0.9794424680862945, 0.9797743940127047, 0.9797892621425305, 0.9797716907163728, 0.9797568225865468, 0.979739121242266, 0.9797568225865468, 0.9797512860757598, 0.9797334533671428, 0.979721288533649, 0.9797065291287215, 0.9797334533671428, 0.9797334533671428, 0.9797484314276883, 0.9797484314276883, 0.9797632995575141, 0.9797334533671428, 0.9797484314276883, 0.9797484314276883, 0.9797484314276883, 0.9797484314276883], [0.9395767623053665, 0.9625037195497536, 0.9697695504160985, 0.9753998102453515, 0.9751070043582188, 0.9765720039912912, 0.9768509630913662, 0.9783334356065831, 0.9787070457996488, 0.9794424680862945, 0.9797743940127047, 0.9797892621425305, 0.9797716907163728, 0.9797568225865468, 0.979739121242266, 0.9797568225865468, 0.9797512860757598, 0.9797334533671428, 0.979721288533649, 0.9797065291287215, 0.9797334533671428, 0.9797334533671428, 0.9797484314276883, 0.9797484314276883, 0.9797632995575141, 0.9797334533671428, 0.9797484314276883, 0.9797484314276883, 0.9797484314276883, 0.9797484314276883], [0.9395767623053665, 0.9625037195497536, 0.9697695504160985, 0.9753998102453515, 0.9751070043582188, 0.9765720039912912, 0.9768509630913662, 0.9783334356065831, 0.9787070457996488, 0.9794424680862945, 0.9797743940127047, 0.9797892621425305, 0.9797716907163728, 0.9797568225865468, 0.979739121242266, 0.9797568225865468, 0.9797512860757598, 0.9797334533671428, 0.979721288533649, 0.9797065291287215, 0.9797334533671428, 0.9797334533671428, 0.9797484314276883, 0.9797484314276883, 0.9797632995575141, 0.9797334533671428, 0.9797484314276883, 0.9797484314276883, 0.9797484314276883, 0.9797484314276883], [0.9395767623053665, 0.9625037195497536, 0.9697695504160985, 0.9753998102453515, 0.9751070043582188, 0.9765720039912912, 0.9768509630913662, 0.9783334356065831, 0.9787070457996488, 0.9794424680862945, 0.9797743940127047, 0.9797892621425305, 0.9797716907163728, 0.9797568225865468, 0.979739121242266, 0.9797568225865468, 0.9797512860757598, 0.9797334533671428, 0.979721288533649, 0.9797065291287215, 0.9797334533671428, 0.9797334533671428, 0.9797484314276883, 0.9797484314276883, 0.9797632995575141, 0.9797334533671428, 0.9797484314276883, 0.9797484314276883, 0.9797484314276883, 0.9797484314276883], [0.9395767623053665, 0.9625037195497536, 0.9697695504160985, 0.9753998102453515, 0.9751070043582188, 0.9765720039912912, 0.9768509630913662, 0.9783334356065831, 0.9787070457996488, 0.9794424680862945, 0.9797743940127047, 0.9797892621425305, 0.9797716907163728, 0.9797568225865468, 0.979739121242266, 0.9797568225865468, 0.9797512860757598, 0.9797334533671428, 0.979721288533649, 0.9797065291287215, 0.9797334533671428, 0.9797334533671428, 0.9797484314276883, 0.9797484314276883, 0.9797632995575141, 0.9797334533671428, 0.9797484314276883, 0.9797484314276883, 0.9797484314276883, 0.9797484314276883], [0.9395767623053665, 0.9625037195497536, 0.9697695504160985, 0.9753998102453515, 0.9751070043582188, 0.9765720039912912, 0.9768509630913662, 0.9783334356065831, 0.9787070457996488, 0.9794424680862945, 0.9797743940127047, 0.9797892621425305, 0.9797716907163728, 0.9797568225865468, 0.979739121242266, 0.9797568225865468, 0.9797512860757598, 0.9797334533671428, 0.979721288533649, 0.9797065291287215, 0.9797334533671428, 0.9797334533671428, 0.9797484314276883, 0.9797484314276883, 0.9797632995575141, 0.9797334533671428, 0.9797484314276883, 0.9797484314276883, 0.9797484314276883, 0.9797484314276883]]}],                        {\"autosize\": false, \"height\": 500, \"scene\": {\"xaxis\": {\"title\": {\"text\": \"max depth\"}}, \"yaxis\": {\"title\": {\"text\": \"n estimators\"}}, \"zaxis\": {\"title\": {\"text\": \"f1 score\"}}}, \"template\": {\"data\": {\"bar\": [{\"error_x\": {\"color\": \"#2a3f5f\"}, \"error_y\": {\"color\": \"#2a3f5f\"}, \"marker\": {\"line\": {\"color\": \"#E5ECF6\", \"width\": 0.5}}, \"type\": \"bar\"}], \"barpolar\": [{\"marker\": {\"line\": {\"color\": \"#E5ECF6\", \"width\": 0.5}}, \"type\": \"barpolar\"}], \"carpet\": [{\"aaxis\": {\"endlinecolor\": \"#2a3f5f\", \"gridcolor\": \"white\", \"linecolor\": \"white\", \"minorgridcolor\": \"white\", \"startlinecolor\": \"#2a3f5f\"}, \"baxis\": {\"endlinecolor\": \"#2a3f5f\", \"gridcolor\": \"white\", \"linecolor\": \"white\", \"minorgridcolor\": \"white\", \"startlinecolor\": \"#2a3f5f\"}, \"type\": \"carpet\"}], \"choropleth\": [{\"colorbar\": {\"outlinewidth\": 0, \"ticks\": \"\"}, \"type\": \"choropleth\"}], \"contour\": [{\"colorbar\": {\"outlinewidth\": 0, \"ticks\": \"\"}, \"colorscale\": [[0.0, \"#0d0887\"], [0.1111111111111111, \"#46039f\"], [0.2222222222222222, \"#7201a8\"], [0.3333333333333333, \"#9c179e\"], [0.4444444444444444, \"#bd3786\"], [0.5555555555555556, \"#d8576b\"], [0.6666666666666666, \"#ed7953\"], [0.7777777777777778, \"#fb9f3a\"], [0.8888888888888888, \"#fdca26\"], [1.0, \"#f0f921\"]], \"type\": \"contour\"}], \"contourcarpet\": [{\"colorbar\": {\"outlinewidth\": 0, \"ticks\": \"\"}, \"type\": \"contourcarpet\"}], \"heatmap\": [{\"colorbar\": {\"outlinewidth\": 0, \"ticks\": \"\"}, \"colorscale\": [[0.0, \"#0d0887\"], [0.1111111111111111, \"#46039f\"], [0.2222222222222222, \"#7201a8\"], [0.3333333333333333, \"#9c179e\"], [0.4444444444444444, \"#bd3786\"], [0.5555555555555556, \"#d8576b\"], [0.6666666666666666, \"#ed7953\"], [0.7777777777777778, \"#fb9f3a\"], [0.8888888888888888, \"#fdca26\"], [1.0, \"#f0f921\"]], \"type\": \"heatmap\"}], \"heatmapgl\": [{\"colorbar\": {\"outlinewidth\": 0, \"ticks\": \"\"}, \"colorscale\": [[0.0, \"#0d0887\"], [0.1111111111111111, \"#46039f\"], [0.2222222222222222, \"#7201a8\"], [0.3333333333333333, \"#9c179e\"], [0.4444444444444444, \"#bd3786\"], [0.5555555555555556, \"#d8576b\"], [0.6666666666666666, \"#ed7953\"], [0.7777777777777778, \"#fb9f3a\"], [0.8888888888888888, \"#fdca26\"], [1.0, \"#f0f921\"]], \"type\": \"heatmapgl\"}], \"histogram\": [{\"marker\": {\"colorbar\": {\"outlinewidth\": 0, \"ticks\": \"\"}}, \"type\": \"histogram\"}], \"histogram2d\": [{\"colorbar\": {\"outlinewidth\": 0, \"ticks\": \"\"}, \"colorscale\": [[0.0, \"#0d0887\"], [0.1111111111111111, \"#46039f\"], [0.2222222222222222, \"#7201a8\"], [0.3333333333333333, \"#9c179e\"], [0.4444444444444444, \"#bd3786\"], [0.5555555555555556, \"#d8576b\"], [0.6666666666666666, \"#ed7953\"], [0.7777777777777778, \"#fb9f3a\"], [0.8888888888888888, \"#fdca26\"], [1.0, \"#f0f921\"]], \"type\": \"histogram2d\"}], \"histogram2dcontour\": [{\"colorbar\": {\"outlinewidth\": 0, \"ticks\": \"\"}, \"colorscale\": [[0.0, \"#0d0887\"], [0.1111111111111111, \"#46039f\"], [0.2222222222222222, \"#7201a8\"], [0.3333333333333333, \"#9c179e\"], [0.4444444444444444, \"#bd3786\"], [0.5555555555555556, \"#d8576b\"], [0.6666666666666666, \"#ed7953\"], [0.7777777777777778, \"#fb9f3a\"], [0.8888888888888888, \"#fdca26\"], [1.0, \"#f0f921\"]], \"type\": \"histogram2dcontour\"}], \"mesh3d\": [{\"colorbar\": {\"outlinewidth\": 0, \"ticks\": \"\"}, \"type\": \"mesh3d\"}], \"parcoords\": [{\"line\": {\"colorbar\": {\"outlinewidth\": 0, \"ticks\": \"\"}}, \"type\": \"parcoords\"}], \"pie\": [{\"automargin\": true, \"type\": \"pie\"}], \"scatter\": [{\"marker\": {\"colorbar\": {\"outlinewidth\": 0, \"ticks\": \"\"}}, \"type\": \"scatter\"}], \"scatter3d\": [{\"line\": {\"colorbar\": {\"outlinewidth\": 0, \"ticks\": \"\"}}, \"marker\": {\"colorbar\": {\"outlinewidth\": 0, \"ticks\": \"\"}}, \"type\": \"scatter3d\"}], \"scattercarpet\": [{\"marker\": {\"colorbar\": {\"outlinewidth\": 0, \"ticks\": \"\"}}, \"type\": \"scattercarpet\"}], \"scattergeo\": [{\"marker\": {\"colorbar\": {\"outlinewidth\": 0, \"ticks\": \"\"}}, \"type\": \"scattergeo\"}], \"scattergl\": [{\"marker\": {\"colorbar\": {\"outlinewidth\": 0, \"ticks\": \"\"}}, \"type\": \"scattergl\"}], \"scattermapbox\": [{\"marker\": {\"colorbar\": {\"outlinewidth\": 0, \"ticks\": \"\"}}, \"type\": \"scattermapbox\"}], \"scatterpolar\": [{\"marker\": {\"colorbar\": {\"outlinewidth\": 0, \"ticks\": \"\"}}, \"type\": \"scatterpolar\"}], \"scatterpolargl\": [{\"marker\": {\"colorbar\": {\"outlinewidth\": 0, \"ticks\": \"\"}}, \"type\": \"scatterpolargl\"}], \"scatterternary\": [{\"marker\": {\"colorbar\": {\"outlinewidth\": 0, \"ticks\": \"\"}}, \"type\": \"scatterternary\"}], \"surface\": [{\"colorbar\": {\"outlinewidth\": 0, \"ticks\": \"\"}, \"colorscale\": [[0.0, \"#0d0887\"], [0.1111111111111111, \"#46039f\"], [0.2222222222222222, \"#7201a8\"], [0.3333333333333333, \"#9c179e\"], [0.4444444444444444, \"#bd3786\"], [0.5555555555555556, \"#d8576b\"], [0.6666666666666666, \"#ed7953\"], [0.7777777777777778, \"#fb9f3a\"], [0.8888888888888888, \"#fdca26\"], [1.0, \"#f0f921\"]], \"type\": \"surface\"}], \"table\": [{\"cells\": {\"fill\": {\"color\": \"#EBF0F8\"}, \"line\": {\"color\": \"white\"}}, \"header\": {\"fill\": {\"color\": \"#C8D4E3\"}, \"line\": {\"color\": \"white\"}}, \"type\": \"table\"}]}, \"layout\": {\"annotationdefaults\": {\"arrowcolor\": \"#2a3f5f\", \"arrowhead\": 0, \"arrowwidth\": 1}, \"coloraxis\": {\"colorbar\": {\"outlinewidth\": 0, \"ticks\": \"\"}}, \"colorscale\": {\"diverging\": [[0, \"#8e0152\"], [0.1, \"#c51b7d\"], [0.2, \"#de77ae\"], [0.3, \"#f1b6da\"], [0.4, \"#fde0ef\"], [0.5, \"#f7f7f7\"], [0.6, \"#e6f5d0\"], [0.7, \"#b8e186\"], [0.8, \"#7fbc41\"], [0.9, \"#4d9221\"], [1, \"#276419\"]], \"sequential\": [[0.0, \"#0d0887\"], [0.1111111111111111, \"#46039f\"], [0.2222222222222222, \"#7201a8\"], [0.3333333333333333, \"#9c179e\"], [0.4444444444444444, \"#bd3786\"], [0.5555555555555556, \"#d8576b\"], [0.6666666666666666, \"#ed7953\"], [0.7777777777777778, \"#fb9f3a\"], [0.8888888888888888, \"#fdca26\"], [1.0, \"#f0f921\"]], \"sequentialminus\": [[0.0, \"#0d0887\"], [0.1111111111111111, \"#46039f\"], [0.2222222222222222, \"#7201a8\"], [0.3333333333333333, \"#9c179e\"], [0.4444444444444444, \"#bd3786\"], [0.5555555555555556, \"#d8576b\"], [0.6666666666666666, \"#ed7953\"], [0.7777777777777778, \"#fb9f3a\"], [0.8888888888888888, \"#fdca26\"], [1.0, \"#f0f921\"]]}, \"colorway\": [\"#636efa\", \"#EF553B\", \"#00cc96\", \"#ab63fa\", \"#FFA15A\", \"#19d3f3\", \"#FF6692\", \"#B6E880\", \"#FF97FF\", \"#FECB52\"], \"font\": {\"color\": \"#2a3f5f\"}, \"geo\": {\"bgcolor\": \"white\", \"lakecolor\": \"white\", \"landcolor\": \"#E5ECF6\", \"showlakes\": true, \"showland\": true, \"subunitcolor\": \"white\"}, \"hoverlabel\": {\"align\": \"left\"}, \"hovermode\": \"closest\", \"mapbox\": {\"style\": \"light\"}, \"paper_bgcolor\": \"white\", \"plot_bgcolor\": \"#E5ECF6\", \"polar\": {\"angularaxis\": {\"gridcolor\": \"white\", \"linecolor\": \"white\", \"ticks\": \"\"}, \"bgcolor\": \"#E5ECF6\", \"radialaxis\": {\"gridcolor\": \"white\", \"linecolor\": \"white\", \"ticks\": \"\"}}, \"scene\": {\"xaxis\": {\"backgroundcolor\": \"#E5ECF6\", \"gridcolor\": \"white\", \"gridwidth\": 2, \"linecolor\": \"white\", \"showbackground\": true, \"ticks\": \"\", \"zerolinecolor\": \"white\"}, \"yaxis\": {\"backgroundcolor\": \"#E5ECF6\", \"gridcolor\": \"white\", \"gridwidth\": 2, \"linecolor\": \"white\", \"showbackground\": true, \"ticks\": \"\", \"zerolinecolor\": \"white\"}, \"zaxis\": {\"backgroundcolor\": \"#E5ECF6\", \"gridcolor\": \"white\", \"gridwidth\": 2, \"linecolor\": \"white\", \"showbackground\": true, \"ticks\": \"\", \"zerolinecolor\": \"white\"}}, \"shapedefaults\": {\"line\": {\"color\": \"#2a3f5f\"}}, \"ternary\": {\"aaxis\": {\"gridcolor\": \"white\", \"linecolor\": \"white\", \"ticks\": \"\"}, \"baxis\": {\"gridcolor\": \"white\", \"linecolor\": \"white\", \"ticks\": \"\"}, \"bgcolor\": \"#E5ECF6\", \"caxis\": {\"gridcolor\": \"white\", \"linecolor\": \"white\", \"ticks\": \"\"}}, \"title\": {\"x\": 0.05}, \"xaxis\": {\"automargin\": true, \"gridcolor\": \"white\", \"linecolor\": \"white\", \"ticks\": \"\", \"title\": {\"standoff\": 15}, \"zerolinecolor\": \"white\", \"zerolinewidth\": 2}, \"yaxis\": {\"automargin\": true, \"gridcolor\": \"white\", \"linecolor\": \"white\", \"ticks\": \"\", \"title\": {\"standoff\": 15}, \"zerolinecolor\": \"white\", \"zerolinewidth\": 2}}}, \"title\": {\"text\": \"F1 test depends on Random forest params\"}, \"width\": 500},                        {\"responsive\": true}                    ).then(function(){\n",
       "                            \n",
       "var gd = document.getElementById('00218123-ebc7-4d22-9c6a-b6df59255ae9');\n",
       "var x = new MutationObserver(function (mutations, observer) {{\n",
       "        var display = window.getComputedStyle(gd).display;\n",
       "        if (!display || display === 'none') {{\n",
       "            console.log([gd, 'removed!']);\n",
       "            Plotly.purge(gd);\n",
       "            observer.disconnect();\n",
       "        }}\n",
       "}});\n",
       "\n",
       "// Listen for the removal of the full notebook cells\n",
       "var notebookContainer = gd.closest('#notebook-container');\n",
       "if (notebookContainer) {{\n",
       "    x.observe(notebookContainer, {childList: true});\n",
       "}}\n",
       "\n",
       "// Listen for the clearing of the current output cell\n",
       "var outputEl = gd.closest('.output');\n",
       "if (outputEl) {{\n",
       "    x.observe(outputEl, {childList: true});\n",
       "}}\n",
       "\n",
       "                        })                };                });            </script>        </div>"
      ]
     },
     "metadata": {},
     "output_type": "display_data"
    }
   ],
   "source": [
    "fig = go.Figure(data=[go.Surface(z=f1_test_scores, x=depths, y=n_estims),\n",
    "                      go.Surface(z=f1_train_scores, x=depths, y=n_estims)\n",
    "                     ])\n",
    "fig.update_layout(scene = dict(zaxis_title=\"f1 score\",\n",
    "                               xaxis_title=\"max depth\",\n",
    "                               yaxis_title=\"n estimators\"),\n",
    "                  title='F1 test depends on Random forest params', autosize=False,\n",
    "                  width=500, height=500,\n",
    "                 )\n",
    "fig.show()"
   ]
  },
  {
   "cell_type": "markdown",
   "metadata": {},
   "source": [
    "Какой вывод? Всё таки есть оптимальный набор параметров, котоырй характеризуется по большей части числом деревьев.\n",
    "Макс глубину достаточно установаить $\\geq 16$.\n",
    "\n",
    "Да, сверху график F1 на обучении)\n",
    "\n",
    "Получим тепреь лучшую модель, проверим на `test_data`"
   ]
  },
  {
   "cell_type": "code",
   "execution_count": 162,
   "metadata": {},
   "outputs": [],
   "source": [
    "model_best = RandomForestClassifier(n_estimators=50, max_depth=20, random_state=42)\n",
    "\n",
    "x = train_data_1.drop(columns=['Survived'])\n",
    "y = train_data_1['Survived']\n",
    "\n",
    "x_train, x_test, y_train, y_test = train_test_split(x, y, test_size=0.2, random_state=42)\n",
    "\n",
    "model.fit(x_train, y_train)\n",
    "y_test_hat = model.predict(x_test)\n",
    "y_train_hat = model.predict(x_train)"
   ]
  },
  {
   "cell_type": "code",
   "execution_count": 163,
   "metadata": {},
   "outputs": [
    {
     "name": "stdout",
     "output_type": "stream",
     "text": [
      "Test\n",
      "\tprecision=0.79\n",
      "\trecall   =0.74\n",
      "\tf1       =0.76\n",
      "Train\n",
      "\tprecision=0.99\n",
      "\trecall   =0.96\n",
      "\tf1       =0.97\n"
     ]
    }
   ],
   "source": [
    "pr, rec, f1, _ = precision_recall_fscore_support(y_test, y_test_hat, average='binary')\n",
    "print(f'Test\\n\\tprecision={pr:.2f}\\n\\trecall   ={rec:.2f}\\n\\tf1       ={f1:.2f}')\n",
    "pr, rec, f1, _ = precision_recall_fscore_support(y_train, y_train_hat, average='binary')\n",
    "print(f'Train\\n\\tprecision={pr:.2f}\\n\\trecall   ={rec:.2f}\\n\\tf1       ={f1:.2f}')"
   ]
  },
  {
   "cell_type": "markdown",
   "metadata": {},
   "source": [
    "Кхм увеличился `f1` только на обучении...\n",
    "\n",
    "А, ещё `precision` уменьшился, а `recall` увеличился."
   ]
  }
 ],
 "metadata": {
  "kernelspec": {
   "display_name": "AD_CV_env",
   "language": "python",
   "name": "venv"
  },
  "language_info": {
   "codemirror_mode": {
    "name": "ipython",
    "version": 3
   },
   "file_extension": ".py",
   "mimetype": "text/x-python",
   "name": "python",
   "nbconvert_exporter": "python",
   "pygments_lexer": "ipython3",
   "version": "3.8.2"
  }
 },
 "nbformat": 4,
 "nbformat_minor": 4
}
