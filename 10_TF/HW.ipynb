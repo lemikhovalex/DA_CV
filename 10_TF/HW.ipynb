{
 "cells": [
  {
   "cell_type": "markdown",
   "metadata": {},
   "source": [
    "Сделаем зашрузку данных"
   ]
  },
  {
   "cell_type": "code",
   "execution_count": 1,
   "metadata": {},
   "outputs": [
    {
     "name": "stdout",
     "output_type": "stream",
     "text": [
      "(50000, 28, 28) (50000,)\n"
     ]
    },
    {
     "data": {
      "image/png": "[encoded data removed]",
      "text/plain": [
       "<Figure size 432x288 with 1 Axes>"
      ]
     },
     "metadata": {
      "needs_background": "light"
     },
     "output_type": "display_data"
    }
   ],
   "source": [
    "import tensorflow.keras as keras\n",
    "from sklearn.preprocessing import LabelBinarizer\n",
    "import matplotlib.pyplot as plt\n",
    "\n",
    "%matplotlib inline\n",
    "\n",
    "def load_dataset(flatten=False):\n",
    "    (X_train, y_train), (X_test, y_test) = keras.datasets.mnist.load_data()\n",
    "    # normalize x\n",
    "    X_train = X_train.astype(float) / 255.\n",
    "    X_test = X_test.astype(float) / 255.\n",
    "    \n",
    "    # Оставим 10000 примеров на валидацию\n",
    "    X_train, X_val = X_train[:-10000], X_train[-10000:]\n",
    "    y_train, y_val = y_train[:-10000], y_train[-10000:]\n",
    "    if flatten:\n",
    "        X_train = X_train.reshape([X_train.shape[0], -1])\n",
    "        X_val = X_val.reshape([X_val.shape[0], -1])\n",
    "        X_test = X_test.reshape([X_test.shape[0], -1])\n",
    "    return X_train, y_train, X_val, y_val, X_test, y_test\n",
    "\n",
    "\n",
    "X_train, y_train, X_val, y_val, X_test, y_test = load_dataset()\n",
    "## Размеры\n",
    "print(X_train.shape, y_train.shape)\n",
    "## Нарисуем пример\n",
    "plt.imshow(X_train[0], cmap=\"Greys\");"
   ]
  },
  {
   "cell_type": "code",
   "execution_count": 2,
   "metadata": {},
   "outputs": [
    {
     "name": "stdout",
     "output_type": "stream",
     "text": [
      "Train dimension:\n",
      "(50000, 784)\n",
      "Test dimension:\n",
      "(10000, 784)\n",
      "Train labels dimension:\n",
      "(50000, 10)\n",
      "Test labels dimension:\n",
      "(10000, 10)\n"
     ]
    }
   ],
   "source": [
    "## Сделаем объекты плоскими N*28*28 to  N*784\n",
    "\n",
    "X_train = X_train.reshape((X_train.shape[0],X_train.shape[1]*X_train.shape[2]))\n",
    "X_test = X_test.reshape((X_test.shape[0],X_test.shape[1]*X_test.shape[2]))\n",
    "\n",
    "print('Train dimension:');print(X_train.shape)\n",
    "print('Test dimension:');print(X_test.shape)\n",
    "\n",
    "## Лейблы нужно сделать One-Hot\n",
    "lb = LabelBinarizer()\n",
    "y_train = lb.fit_transform(y_train)\n",
    "y_test = lb.transform(y_test)\n",
    "print('Train labels dimension:');print(y_train.shape)\n",
    "print('Test labels dimension:');print(y_test.shape)"
   ]
  },
  {
   "cell_type": "markdown",
   "metadata": {},
   "source": [
    "# 1 Переделать модель в Functional API"
   ]
  },
  {
   "cell_type": "code",
   "execution_count": 3,
   "metadata": {},
   "outputs": [],
   "source": [
    "import numpy as np\n",
    "import tensorflow as tf\n",
    "from tensorflow import keras"
   ]
  },
  {
   "cell_type": "markdown",
   "metadata": {},
   "source": [
    "Вот так выглядела модель из предыдущего ноутбука"
   ]
  },
  {
   "cell_type": "code",
   "execution_count": 4,
   "metadata": {},
   "outputs": [],
   "source": [
    "from tensorflow.keras.models import Sequential\n",
    "from tensorflow.keras.layers import Dense\n",
    "\n",
    "model = Sequential()\n",
    "model.add(Dense(14, input_dim=X_train.shape[1], activation='relu'))\n",
    "model.add(Dense(12, activation='relu'))\n",
    "model.add(Dense(y_train.shape[1], activation='softmax'))\n",
    "\n",
    "model.compile(loss='mean_squared_error', optimizer='SGD', \n",
    "              metrics=['mean_squared_error'])"
   ]
  },
  {
   "cell_type": "markdown",
   "metadata": {},
   "source": [
    "Вот так будет в `Functional API`"
   ]
  },
  {
   "cell_type": "code",
   "execution_count": 58,
   "metadata": {},
   "outputs": [],
   "source": [
    "from keras.models import Model\n",
    "from keras.layers import Input, Dense\n",
    "\n",
    "def model_by_functional_api(inp_dim, output_dim, optimizer='adam'):\n",
    "    input1 = Input(shape=(inp_dim,))\n",
    "    hidden1 = Dense(14, activation='relu')(input1)\n",
    "    hidden2 = Dense(12, activation='relu')(hidden1)\n",
    "    output = Dense(output_dim, activation='softmax')(hidden2)\n",
    "    model = Model(inputs=input1, outputs=output)\n",
    "    model.compile(loss='categorical_crossentropy', optimizer=optimizer, metrics=['accuracy'])\n",
    "    return model\n",
    "\n",
    "model = model_by_functional_api(X_train.shape[1], y_train.shape[1])"
   ]
  },
  {
   "cell_type": "markdown",
   "metadata": {},
   "source": [
    "# 2 Добавить логирование в Tensorboard, early stopping callback\n",
    "## 2.1 Callback"
   ]
  },
  {
   "cell_type": "code",
   "execution_count": 6,
   "metadata": {
    "collapsed": true
   },
   "outputs": [
    {
     "name": "stdout",
     "output_type": "stream",
     "text": [
      "Epoch 1/7\n",
      "4969/5000 [============================>.] - ETA: 0s - loss: 0.4356 - accuracy: 0.8715WARNING:tensorflow:Callbacks method `on_test_batch_end` is slow compared to the batch time (batch time: 0.0000s vs `on_test_batch_end` time: 0.0010s). Check your callbacks.\n",
      "WARNING:tensorflow:From c:\\users\\pc\\appdata\\local\\programs\\python\\python38\\lib\\site-packages\\tensorflow\\python\\training\\tracking\\tracking.py:111: Model.state_updates (from tensorflow.python.keras.engine.training) is deprecated and will be removed in a future version.\n",
      "Instructions for updating:\n",
      "This property should not be used in TensorFlow 2.0, as updates are applied automatically.\n",
      "WARNING:tensorflow:From c:\\users\\pc\\appdata\\local\\programs\\python\\python38\\lib\\site-packages\\tensorflow\\python\\training\\tracking\\tracking.py:111: Layer.updates (from tensorflow.python.keras.engine.base_layer) is deprecated and will be removed in a future version.\n",
      "Instructions for updating:\n",
      "This property should not be used in TensorFlow 2.0, as updates are applied automatically.\n",
      "INFO:tensorflow:Assets written to: callbacks\\assets\n",
      "5000/5000 [==============================] - 6s 1ms/step - loss: 0.4348 - accuracy: 0.8718 - val_loss: 0.2616 - val_accuracy: 0.9247\n",
      "Epoch 2/7\n",
      "4970/5000 [============================>.] - ETA: 0s - loss: 0.2623 - accuracy: 0.9240INFO:tensorflow:Assets written to: callbacks\\assets\n",
      "5000/5000 [==============================] - 6s 1ms/step - loss: 0.2624 - accuracy: 0.9239 - val_loss: 0.2343 - val_accuracy: 0.9296\n",
      "Epoch 3/7\n",
      "4999/5000 [============================>.] - ETA: 0s - loss: 0.2191 - accuracy: 0.9371INFO:tensorflow:Assets written to: callbacks\\assets\n",
      "5000/5000 [==============================] - 6s 1ms/step - loss: 0.2191 - accuracy: 0.9372 - val_loss: 0.1991 - val_accuracy: 0.9420\n",
      "Epoch 4/7\n",
      "4988/5000 [============================>.] - ETA: 0s - loss: 0.1950 - accuracy: 0.9436INFO:tensorflow:Assets written to: callbacks\\assets\n",
      "5000/5000 [==============================] - 6s 1ms/step - loss: 0.1949 - accuracy: 0.9436 - val_loss: 0.1918 - val_accuracy: 0.9444\n",
      "Epoch 5/7\n",
      "4955/5000 [============================>.] - ETA: 0s - loss: 0.1796 - accuracy: 0.9468INFO:tensorflow:Assets written to: callbacks\\assets\n",
      "5000/5000 [==============================] - 6s 1ms/step - loss: 0.1800 - accuracy: 0.9468 - val_loss: 0.2046 - val_accuracy: 0.9405\n",
      "Epoch 6/7\n",
      "4969/5000 [============================>.] - ETA: 0s - loss: 0.1696 - accuracy: 0.9508INFO:tensorflow:Assets written to: callbacks\\assets\n",
      "5000/5000 [==============================] - 6s 1ms/step - loss: 0.1697 - accuracy: 0.9508 - val_loss: 0.1905 - val_accuracy: 0.9473\n",
      "Epoch 7/7\n",
      "4983/5000 [============================>.] - ETA: 0s - loss: 0.1612 - accuracy: 0.9533INFO:tensorflow:Assets written to: callbacks\\assets\n",
      "5000/5000 [==============================] - 6s 1ms/step - loss: 0.1611 - accuracy: 0.9533 - val_loss: 0.1829 - val_accuracy: 0.9489\n"
     ]
    }
   ],
   "source": [
    "callbacks = [\n",
    "    keras.callbacks.ModelCheckpoint(\n",
    "        filepath='callbacks',\n",
    "        save_freq='epoch')\n",
    "]\n",
    "_ = model.fit(X_train, y_train, epochs=7, batch_size=10, \n",
    "              validation_data=(X_test, y_test), callbacks=callbacks)"
   ]
  },
  {
   "cell_type": "markdown",
   "metadata": {},
   "source": [
    "И можно загрузить сохранённую модельку модельку"
   ]
  },
  {
   "cell_type": "code",
   "execution_count": 13,
   "metadata": {},
   "outputs": [],
   "source": [
    "model = tf.keras.models.load_model('callbacks')"
   ]
  },
  {
   "cell_type": "markdown",
   "metadata": {},
   "source": [
    "## 2.1 Tensorboard"
   ]
  },
  {
   "cell_type": "code",
   "execution_count": 15,
   "metadata": {
    "collapsed": true
   },
   "outputs": [
    {
     "name": "stdout",
     "output_type": "stream",
     "text": [
      "Epoch 1/7\n",
      "   1/5000 [..............................] - ETA: 4s - loss: 0.0125 - accuracy: 1.0000WARNING:tensorflow:From c:\\users\\pc\\appdata\\local\\programs\\python\\python38\\lib\\site-packages\\tensorflow\\python\\ops\\summary_ops_v2.py:1277: stop (from tensorflow.python.eager.profiler) is deprecated and will be removed after 2020-07-01.\n",
      "Instructions for updating:\n",
      "use `tf.profiler.experimental.stop` instead.\n",
      "WARNING:tensorflow:Callbacks method `on_train_batch_begin` is slow compared to the batch time (batch time: 0.0010s vs `on_train_batch_begin` time: 0.0020s). Check your callbacks.\n",
      "WARNING:tensorflow:Callbacks method `on_train_batch_end` is slow compared to the batch time (batch time: 0.0010s vs `on_train_batch_end` time: 0.0280s). Check your callbacks.\n",
      "4977/5000 [============================>.] - ETA: 0s - loss: 0.1554 - accuracy: 0.9530WARNING:tensorflow:Callbacks method `on_test_batch_end` is slow compared to the batch time (batch time: 0.0000s vs `on_test_batch_end` time: 0.0010s). Check your callbacks.\n",
      "5000/5000 [==============================] - 6s 1ms/step - loss: 0.1551 - accuracy: 0.9531 - val_loss: 0.1757 - val_accuracy: 0.9498\n",
      "Epoch 2/7\n",
      "5000/5000 [==============================] - 6s 1ms/step - loss: 0.1497 - accuracy: 0.9563 - val_loss: 0.1827 - val_accuracy: 0.9469\n",
      "Epoch 3/7\n",
      "5000/5000 [==============================] - 6s 1ms/step - loss: 0.1464 - accuracy: 0.9574 - val_loss: 0.1843 - val_accuracy: 0.9469\n",
      "Epoch 4/7\n",
      "5000/5000 [==============================] - 6s 1ms/step - loss: 0.1417 - accuracy: 0.9571 - val_loss: 0.1802 - val_accuracy: 0.9496\n",
      "Epoch 5/7\n",
      "5000/5000 [==============================] - 6s 1ms/step - loss: 0.1373 - accuracy: 0.9594 - val_loss: 0.1814 - val_accuracy: 0.9501\n",
      "Epoch 6/7\n",
      "5000/5000 [==============================] - 6s 1ms/step - loss: 0.1334 - accuracy: 0.9603 - val_loss: 0.1833 - val_accuracy: 0.9489\n",
      "Epoch 7/7\n",
      "5000/5000 [==============================] - 6s 1ms/step - loss: 0.1316 - accuracy: 0.9607 - val_loss: 0.1769 - val_accuracy: 0.9490\n"
     ]
    }
   ],
   "source": [
    "import datetime\n",
    "log_dir = \"logs/fit/\" + datetime.datetime.now().strftime(\"%Y%m%d-%H%M%S\")\n",
    "tensorboard_callback = tf.keras.callbacks.TensorBoard(log_dir=log_dir, histogram_freq=1)\n",
    "\n",
    "history = model.fit(X_train, y_train, epochs=7, batch_size=10, \n",
    "              validation_data=(X_test, y_test), callbacks=[tensorboard_callback])"
   ]
  },
  {
   "cell_type": "code",
   "execution_count": 17,
   "metadata": {},
   "outputs": [
    {
     "name": "stdout",
     "output_type": "stream",
     "text": [
      "The tensorboard extension is already loaded. To reload it, use:\n",
      "  %reload_ext tensorboard\n"
     ]
    },
    {
     "data": {
      "text/plain": [
       "Reusing TensorBoard on port 6006 (pid 6624), started 0:00:36 ago. (Use '!kill 6624' to kill it.)"
      ]
     },
     "metadata": {},
     "output_type": "display_data"
    },
    {
     "data": {
      "text/html": [
       "\n",
       "      <iframe id=\"tensorboard-frame-d3224f55bbafa98c\" width=\"100%\" height=\"800\" frameborder=\"0\">\n",
       "      </iframe>\n",
       "      <script>\n",
       "        (function() {\n",
       "          const frame = document.getElementById(\"tensorboard-frame-d3224f55bbafa98c\");\n",
       "          const url = new URL(\"/\", window.location);\n",
       "          const port = 6006;\n",
       "          if (port) {\n",
       "            url.port = port;\n",
       "          }\n",
       "          frame.src = url;\n",
       "        })();\n",
       "      </script>\n",
       "    "
      ],
      "text/plain": [
       "<IPython.core.display.HTML object>"
      ]
     },
     "metadata": {},
     "output_type": "display_data"
    }
   ],
   "source": [
    "%load_ext tensorboard\n",
    "%tensorboard --logdir logs/fit"
   ]
  },
  {
   "cell_type": "markdown",
   "metadata": {},
   "source": [
    "Красиво, только сразу не запустилось, нужно было прерывать ядро и зановов запускать\n",
    "\n",
    "`plotly` на максималках"
   ]
  },
  {
   "cell_type": "markdown",
   "metadata": {},
   "source": [
    "## 3 early stopping\n",
    "Кароче когда абсолютное значение метрики меняется не сильно заканчиваем учиться"
   ]
  },
  {
   "cell_type": "code",
   "execution_count": 75,
   "metadata": {},
   "outputs": [
    {
     "name": "stdout",
     "output_type": "stream",
     "text": [
      "Epoch 1/100\n",
      "5000/5000 [==============================] - 6s 1ms/step - loss: 0.5746 - accuracy: 0.8524 - val_loss: 0.5330 - val_accuracy: 0.8693\n",
      "Epoch 2/100\n",
      "5000/5000 [==============================] - 6s 1ms/step - loss: 0.5494 - accuracy: 0.8576 - val_loss: 0.5111 - val_accuracy: 0.8729\n",
      "Epoch 3/100\n",
      "5000/5000 [==============================] - 6s 1ms/step - loss: 0.5293 - accuracy: 0.8622 - val_loss: 0.4937 - val_accuracy: 0.8762\n",
      "Epoch 4/100\n",
      "5000/5000 [==============================] - 6s 1ms/step - loss: 0.5128 - accuracy: 0.8655 - val_loss: 0.4792 - val_accuracy: 0.8783\n"
     ]
    }
   ],
   "source": [
    "callback_es = tf.keras.callbacks.EarlyStopping(monitor='val_accuracy', patience=3, min_delta=0.02)\n",
    "history = model.fit(X_train, y_train, epochs=100, batch_size=10, \n",
    "              validation_data=(X_test, y_test), callbacks=[callback_es])"
   ]
  },
  {
   "cell_type": "markdown",
   "metadata": {},
   "source": [
    "# 3 Протестировать: \n",
    "- Adagrad, Adam\n",
    "- Добавление BatchNorm/Dropout"
   ]
  },
  {
   "cell_type": "markdown",
   "metadata": {},
   "source": [
    "## Adagrad, Adam"
   ]
  },
  {
   "cell_type": "code",
   "execution_count": 59,
   "metadata": {},
   "outputs": [],
   "source": [
    "model = model_by_functional_api(X_train.shape[1], y_train.shape[1], optimizer='adagrad')"
   ]
  },
  {
   "cell_type": "code",
   "execution_count": 60,
   "metadata": {},
   "outputs": [
    {
     "name": "stdout",
     "output_type": "stream",
     "text": [
      "WARNING:tensorflow:Callbacks method `on_train_batch_end` is slow compared to the batch time (batch time: 0.0010s vs `on_train_batch_end` time: 0.1953s). Check your callbacks.\n"
     ]
    }
   ],
   "source": [
    "log_dir = \"logs_adagrad/fit/\" + datetime.datetime.now().strftime(\"%Y%m%d-%H%M%S\")\n",
    "tensorboard_callback = tf.keras.callbacks.TensorBoard(log_dir=log_dir, histogram_freq=1)\n",
    "\n",
    "history = model.fit(X_train, y_train, epochs=7, batch_size=10, \n",
    "              validation_data=(X_test, y_test), callbacks=[tensorboard_callback], verbose=0)"
   ]
  },
  {
   "cell_type": "code",
   "execution_count": 61,
   "metadata": {},
   "outputs": [
    {
     "name": "stdout",
     "output_type": "stream",
     "text": [
      "The tensorboard extension is already loaded. To reload it, use:\n",
      "  %reload_ext tensorboard\n"
     ]
    },
    {
     "data": {
      "text/plain": [
       "Reusing TensorBoard on port 6006 (pid 6624), started 0:51:25 ago. (Use '!kill 6624' to kill it.)"
      ]
     },
     "metadata": {},
     "output_type": "display_data"
    },
    {
     "data": {
      "text/html": [
       "\n",
       "      <iframe id=\"tensorboard-frame-9bbead66b6a9e734\" width=\"100%\" height=\"800\" frameborder=\"0\">\n",
       "      </iframe>\n",
       "      <script>\n",
       "        (function() {\n",
       "          const frame = document.getElementById(\"tensorboard-frame-9bbead66b6a9e734\");\n",
       "          const url = new URL(\"/\", window.location);\n",
       "          const port = 6006;\n",
       "          if (port) {\n",
       "            url.port = port;\n",
       "          }\n",
       "          frame.src = url;\n",
       "        })();\n",
       "      </script>\n",
       "    "
      ],
      "text/plain": [
       "<IPython.core.display.HTML object>"
      ]
     },
     "metadata": {},
     "output_type": "display_data"
    }
   ],
   "source": [
    "%load_ext tensorboard\n",
    "%tensorboard --logdir logs/fit"
   ]
  },
  {
   "cell_type": "markdown",
   "metadata": {},
   "source": [
    "Та по большому счёту одинаково"
   ]
  },
  {
   "cell_type": "markdown",
   "metadata": {},
   "source": [
    "## BatchNorm/Dropout"
   ]
  },
  {
   "cell_type": "code",
   "execution_count": 25,
   "metadata": {},
   "outputs": [],
   "source": [
    "def model_by_functional_api_drop_bathc(inp_dim, output_dim, optimizer='adam', dropout=0.1, batch_norm=True):\n",
    "    input1 = Input(shape=(inp_dim,))\n",
    "    hidden1 = Dense(14, activation='relu')(input1)\n",
    "    hidden1 = tf.keras.layers.Dropout(dropout, input_shape=(14,))(hidden1)\n",
    "    if batch_norm:\n",
    "        hidden1 = tf.keras.layers.BatchNormalization()(hidden1)\n",
    "    hidden2 = Dense(12, activation='relu')(hidden1)\n",
    "    hidden2 = tf.keras.layers.Dropout(dropout, input_shape=(12,))(hidden2)\n",
    "    if batch_norm:\n",
    "        hidden2 = tf.keras.layers.BatchNormalization()(hidden2)\n",
    "    output = Dense(output_dim, activation='softmax')(hidden2)\n",
    "    model = Model(inputs=input1, outputs=output)\n",
    "    model.compile(loss='categorical_crossentropy', optimizer='adam', metrics=['accuracy'])\n",
    "    return model\n",
    "\n",
    "model = model_by_functional_api(X_train.shape[1], y_train.shape[1])"
   ]
  },
  {
   "cell_type": "markdown",
   "metadata": {},
   "source": [
    "По warning можн осчитать сколько прошло итераций, ммм новый tf.2"
   ]
  },
  {
   "cell_type": "code",
   "execution_count": 41,
   "metadata": {},
   "outputs": [
    {
     "name": "stdout",
     "output_type": "stream",
     "text": [
      "WARNING:tensorflow:Callbacks method `on_train_batch_end` is slow compared to the batch time (batch time: 0.0020s vs `on_train_batch_end` time: 0.3391s). Check your callbacks.\n",
      "WARNING:tensorflow:Callbacks method `on_train_batch_end` is slow compared to the batch time (batch time: 0.0020s vs `on_train_batch_end` time: 0.5310s). Check your callbacks.\n",
      "WARNING:tensorflow:Callbacks method `on_train_batch_end` is slow compared to the batch time (batch time: 0.0020s vs `on_train_batch_end` time: 0.5169s). Check your callbacks.\n",
      "WARNING:tensorflow:Callbacks method `on_train_batch_end` is slow compared to the batch time (batch time: 0.0020s vs `on_train_batch_end` time: 0.5291s). Check your callbacks.\n",
      "WARNING:tensorflow:Callbacks method `on_train_batch_end` is slow compared to the batch time (batch time: 0.0020s vs `on_train_batch_end` time: 0.5252s). Check your callbacks.\n"
     ]
    }
   ],
   "source": [
    "hists = []\n",
    "d_outs = np.linspace(0.01, 0.2, 5)\n",
    "for do in d_outs:\n",
    "    model = model_by_functional_api_drop_bathc(X_train.shape[1], y_train.shape[1], dropout=do)\n",
    "    h = model.fit(X_train, y_train, epochs=17, batch_size=10, validation_data=(X_test, y_test),\n",
    "                callbacks=[tensorboard_callback], verbose=0)\n",
    "    hists.append(h)"
   ]
  },
  {
   "cell_type": "code",
   "execution_count": 42,
   "metadata": {},
   "outputs": [
    {
     "data": {
      "image/png": "[encoded data removed]",
      "text/plain": [
       "<Figure size 432x288 with 1 Axes>"
      ]
     },
     "metadata": {
      "needs_background": "light"
     },
     "output_type": "display_data"
    }
   ],
   "source": [
    "import matplotlib.pyplot as plt\n",
    "\n",
    "for i, do in enumerate(d_outs):\n",
    "    plt.plot(hists[i].history['val_accuracy'], label=f'dropout={do}')\n",
    "plt.xlabel('epoch')\n",
    "plt.ylabel('accuracy')\n",
    "plt.title('validation curve for dropouts')\n",
    "plt.legend()\n",
    "plt.show()"
   ]
  },
  {
   "cell_type": "markdown",
   "metadata": {},
   "source": [
    "Та не нужем мне этот ваш как его там, дропаут\n",
    "\n",
    "Так стоп а keras tuner может красивше подбирать гиперпараметры? Посмотрим"
   ]
  },
  {
   "cell_type": "code",
   "execution_count": 54,
   "metadata": {},
   "outputs": [],
   "source": [
    "import kerastuner"
   ]
  },
  {
   "cell_type": "markdown",
   "metadata": {},
   "source": [
    "Опять переписывать создание модели, теперь для гиперпараметров("
   ]
  },
  {
   "cell_type": "code",
   "execution_count": 55,
   "metadata": {},
   "outputs": [
    {
     "data": {
      "text/plain": [
       "(784, 10)"
      ]
     },
     "execution_count": 55,
     "metadata": {},
     "output_type": "execute_result"
    }
   ],
   "source": [
    "X_train.shape[1], y_train.shape[1]"
   ]
  },
  {
   "cell_type": "code",
   "execution_count": 62,
   "metadata": {},
   "outputs": [],
   "source": [
    "def model_by_functional_api_drop_bathc(hp, inp_dim=784, output_dim=10, optimizer='adam', dropout=0.1, batch_norm=True):\n",
    "    \n",
    "    hidden_dim_1 = hp.Int('units', min_value=16, max_value=512, step=32)\n",
    "    hidden_dim_2 = hp.Int('units', min_value=16, max_value=512, step=32)\n",
    "    dropout = hp.Choice('deopout', values=[0.5e-1, 1e-1, 2e-1, 3e-1])\n",
    "    batch_n = hp.Choice('bathc_norm', values=[True, False])\n",
    "    \n",
    "    input1 = Input(shape=(inp_dim,))\n",
    "    hidden1 = Dense(units=hidden_dim_1,\n",
    "                    activation='relu')(input1)\n",
    "    hidden1 = tf.keras.layers.Dropout(dropout, input_shape=(hidden_dim_1,))(hidden1)\n",
    "    if batch_n:\n",
    "        hidden1 = tf.keras.layers.BatchNormalization()(hidden1)\n",
    "    hidden2 = Dense(hidden_dim_2, activation='relu')(hidden1)\n",
    "    hidden2 = tf.keras.layers.Dropout(dropout, input_shape=(hidden_dim_2,))(hidden2)\n",
    "    if batch_n:\n",
    "        hidden2 = tf.keras.layers.BatchNormalization()(hidden2)\n",
    "    output = Dense(output_dim, activation='softmax')(hidden2)\n",
    "    model = Model(inputs=input1, outputs=output)\n",
    "    model.compile(loss='categorical_crossentropy', optimizer='adam', metrics=['accuracy'])\n",
    "    return model"
   ]
  },
  {
   "cell_type": "code",
   "execution_count": 73,
   "metadata": {},
   "outputs": [
    {
     "name": "stdout",
     "output_type": "stream",
     "text": [
      "INFO:tensorflow:Reloading Oracle from existing project my_dir\\untitled_project\\oracle.json\n",
      "INFO:tensorflow:Reloading Tuner from my_dir\\untitled_project\\tuner0.json\n"
     ]
    }
   ],
   "source": [
    "tuner = kerastuner.tuners.Hyperband(\n",
    "  model_by_functional_api_drop_bathc,\n",
    "  objective='val_accuracy',\n",
    "  max_epochs=30,\n",
    "  executions_per_trial=5,\n",
    "  directory='my_dir')"
   ]
  },
  {
   "cell_type": "markdown",
   "metadata": {},
   "source": [
    "Поставлю ячейку и пойду поем"
   ]
  },
  {
   "cell_type": "code",
   "execution_count": 74,
   "metadata": {
    "scrolled": true
   },
   "outputs": [
    {
     "name": "stdout",
     "output_type": "stream",
     "text": [
      "Trial 14 Complete [00h 03m 30s]\n",
      "val_accuracy: 0.982039999961853\n",
      "\n",
      "Best val_accuracy So Far: 0.9835400104522705\n",
      "Total elapsed time: 00h 40m 45s\n",
      "INFO:tensorflow:Oracle triggered exit\n"
     ]
    }
   ],
   "source": [
    "tuner.search(X_train, y_train, validation_data=(X_test, y_test))"
   ]
  }
 ],
 "metadata": {
  "kernelspec": {
   "display_name": "Python 3",
   "language": "python",
   "name": "python3"
  },
  "language_info": {
   "codemirror_mode": {
    "name": "ipython",
    "version": 3
   },
   "file_extension": ".py",
   "mimetype": "text/x-python",
   "name": "python",
   "nbconvert_exporter": "python",
   "pygments_lexer": "ipython3",
   "version": "3.8.6"
  }
 },
 "nbformat": 4,
 "nbformat_minor": 4
}
