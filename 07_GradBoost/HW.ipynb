{
 "cells": [
  {
   "cell_type": "code",
   "execution_count": 1,
   "metadata": {},
   "outputs": [],
   "source": [
    "import pandas as pd\n",
    "import numpy as np\n",
    "import matplotlib.pyplot as plt\n",
    "import xgboost as xgb"
   ]
  },
  {
   "cell_type": "markdown",
   "metadata": {},
   "source": [
    "Всё как обычно, но сегодня исследуем `XGBoost`, по сути пробегусь по [интро](https://xgboost.readthedocs.io/en/latest/python/python_intro.html) "
   ]
  },
  {
   "cell_type": "code",
   "execution_count": 2,
   "metadata": {},
   "outputs": [],
   "source": [
    "data = pd.read_csv('../04_Forests/HW/data/train.csv')"
   ]
  },
  {
   "cell_type": "code",
   "execution_count": 3,
   "metadata": {},
   "outputs": [],
   "source": [
    "def preprocess(df: pd.DataFrame()) -> pd.DataFrame():\n",
    "    out = df.copy()\n",
    "    out.drop(columns=['PassengerId', 'Name', 'Ticket', 'Cabin'], inplace=True)\n",
    "    \n",
    "    cleanup_sex = {\"Sex\": {\"male\": 1, \"female\": 0}}\n",
    "    out.replace(cleanup_sex, inplace=True)\n",
    "    \n",
    "    out = pd.get_dummies(out, columns=[\"Embarked\"])\n",
    "    \n",
    "    out['Age'].fillna((out['Age'].mean()), inplace=True)\n",
    "    return out"
   ]
  },
  {
   "cell_type": "code",
   "execution_count": 4,
   "metadata": {},
   "outputs": [],
   "source": [
    "data_1 = preprocess(data)"
   ]
  },
  {
   "cell_type": "code",
   "execution_count": 5,
   "metadata": {},
   "outputs": [],
   "source": [
    "from sklearn.model_selection import train_test_split\n",
    "from sklearn.preprocessing import StandardScaler\n",
    "from sklearn.metrics import precision_recall_fscore_support"
   ]
  },
  {
   "cell_type": "code",
   "execution_count": 25,
   "metadata": {},
   "outputs": [
    {
     "data": {
      "text/plain": [
       "StandardScaler()"
      ]
     },
     "execution_count": 25,
     "metadata": {},
     "output_type": "execute_result"
    }
   ],
   "source": [
    "x = data_1.drop(columns=['Survived'])\n",
    "y = data_1['Survived']\n",
    "\n",
    "x_train, x_test, y_train, y_test = train_test_split(x, y, test_size=0.2, random_state=42)"
   ]
  },
  {
   "cell_type": "markdown",
   "metadata": {},
   "source": [
    "Ну всё, теперь можно кастовать `xgb`. Запихиваем данные в кучу"
   ]
  },
  {
   "cell_type": "code",
   "execution_count": 26,
   "metadata": {},
   "outputs": [],
   "source": [
    "dtrain = xgb.DMatrix(x_train, label=y_train)\n",
    "dtest = xgb.DMatrix(x_test, label=y_test)"
   ]
  },
  {
   "cell_type": "markdown",
   "metadata": {},
   "source": [
    "Определяем пареметры, как на [сайте](https://xgboost.readthedocs.io/en/latest/python/python_intro.html) "
   ]
  },
  {
   "cell_type": "code",
   "execution_count": 27,
   "metadata": {},
   "outputs": [],
   "source": [
    "param = {'max_depth': 2, 'eta': 1, 'objective': 'binary:logistic'}"
   ]
  },
  {
   "cell_type": "code",
   "execution_count": 28,
   "metadata": {},
   "outputs": [],
   "source": [
    "num_round = 10\n",
    "bst = xgb.train(param, dtrain, num_round)"
   ]
  },
  {
   "cell_type": "markdown",
   "metadata": {},
   "source": [
    "Сделали `fit`, пора и `predict`"
   ]
  },
  {
   "cell_type": "code",
   "execution_count": 29,
   "metadata": {},
   "outputs": [],
   "source": [
    "y_test_hat = bst.predict(dtest)\n",
    "y_train_hat = bst.predict(dtrain)"
   ]
  },
  {
   "cell_type": "markdown",
   "metadata": {},
   "source": [
    "Только это нужно ещё и в {0, 1} отобразить"
   ]
  },
  {
   "cell_type": "code",
   "execution_count": 30,
   "metadata": {},
   "outputs": [],
   "source": [
    "y_test_hat  = y_test_hat > 0.5  \n",
    "y_test_hat = y_test_hat.astype(int) \n",
    "\n",
    "y_train_hat  = y_train_hat > 0.5  \n",
    "y_train_hat = y_train_hat.astype(int)  "
   ]
  },
  {
   "cell_type": "code",
   "execution_count": 31,
   "metadata": {},
   "outputs": [
    {
     "name": "stdout",
     "output_type": "stream",
     "text": [
      "Test\n",
      "\tprecision=0.84\n",
      "\trecall   =0.72\n",
      "\tf1       =0.77\n",
      "Train\n",
      "\tprecision=0.90\n",
      "\trecall   =0.68\n",
      "\tf1       =0.77\n"
     ]
    }
   ],
   "source": [
    "pr, rec, f1, _ = precision_recall_fscore_support(y_test, y_test_hat, average='binary')\n",
    "print(f'Test\\n\\tprecision={pr:.2f}\\n\\trecall   ={rec:.2f}\\n\\tf1       ={f1:.2f}')\n",
    "pr, rec, f1, _ = precision_recall_fscore_support(y_train, y_train_hat, average='binary')\n",
    "print(f'Train\\n\\tprecision={pr:.2f}\\n\\trecall   ={rec:.2f}\\n\\tf1       ={f1:.2f}')"
   ]
  },
  {
   "cell_type": "markdown",
   "metadata": {},
   "source": [
    "Так, `random_forest` показал 0.79.\n",
    "\n",
    "А мы тут ещё `eta`(aka learning rate) не подкрутили... Перспектив много. Ещё глубину подкрутим. На лекции было сказано, что это долго, будем подбирать по очереди"
   ]
  },
  {
   "cell_type": "code",
   "execution_count": 24,
   "metadata": {},
   "outputs": [],
   "source": [
    "from sklearn.metrics import f1_score, make_scorer\n",
    "from sklearn.model_selection import cross_validate\n",
    "from sklearn.model_selection import KFold\n",
    "from sklearn.model_selection import cross_val_score"
   ]
  },
  {
   "cell_type": "code",
   "execution_count": 50,
   "metadata": {},
   "outputs": [
    {
     "data": {
      "image/png": "[encoded data removed]",
      "text/plain": [
       "<Figure size 432x288 with 1 Axes>"
      ]
     },
     "metadata": {
      "needs_background": "light"
     },
     "output_type": "display_data"
    }
   ],
   "source": [
    "#'''\n",
    "etas = np.logspace(np.log(1e-4), np.log(3), 100, base=np.exp(1))\n",
    "f1_test_scores = []\n",
    "f1_train_scores = []\n",
    "for eta in etas:\n",
    "    args = {'max_depth': 10, 'learning_rate': eta, 'n_estimators': 20}\n",
    "    model = xgb.XGBClassifier(**args)\n",
    "    scores = cross_validate(model, x_train, y_train, cv=5, scoring=make_scorer(f1_score), return_train_score=True)\n",
    "    f1_test_scores.append(scores['test_score'].mean())\n",
    "    f1_train_scores.append(scores['train_score'].mean())\n",
    "_d = pd.DataFrame()\n",
    "_d['etas'] = etas\n",
    "_d['f1'] = f1_test_scores\n",
    "_d.to_csv('cv_data/eta_test.csv')\n",
    "_d = pd.DataFrame()\n",
    "_d['etas'] = etas\n",
    "_d['f1'] = f1_train_scores\n",
    "_d.to_csv('cv_data/eta_train.csv')\n",
    "#'''\n",
    "_d = pd.read_csv('cv_data/eta_test.csv', index_col=0)\n",
    "etas = _d['etas']\n",
    "f1_test_scores = _d['f1']\n",
    "_d = pd.read_csv('cv_data/eta_train.csv', index_col=0)\n",
    "f1_train_scores = _d['f1']\n",
    "\n",
    "plt.plot(etas, f1_test_scores, label='test')\n",
    "plt.plot(etas, f1_train_scores, label='train')\n",
    "plt.xlabel('eta')\n",
    "plt.xscale('symlog')\n",
    "plt.ylabel('f1')\n",
    "plt.title('F1 score depends on neibors, val')\n",
    "plt.legend()\n",
    "plt.show()"
   ]
  },
  {
   "cell_type": "markdown",
   "metadata": {},
   "source": [
    "Теперь подберём `n_estimators`"
   ]
  },
  {
   "cell_type": "code",
   "execution_count": 60,
   "metadata": {},
   "outputs": [
    {
     "data": {
      "image/png": "[encoded data removed]",
      "text/plain": [
       "<Figure size 432x288 with 1 Axes>"
      ]
     },
     "metadata": {
      "needs_background": "light"
     },
     "output_type": "display_data"
    }
   ],
   "source": [
    "#'''\n",
    "ns = np.linspace(1, 20, 20, dtype=int)\n",
    "f1_test_scores = []\n",
    "f1_train_scores = []\n",
    "for n in ns:\n",
    "    args = {'max_depth': 10, 'learning_rate': 0.1, 'n_estimators': n}\n",
    "    model = xgb.XGBClassifier(**args)\n",
    "    scores = cross_validate(model, x_train, y_train, cv=5, scoring=make_scorer(f1_score), return_train_score=True)\n",
    "    f1_test_scores.append(scores['test_score'].mean())\n",
    "    f1_train_scores.append(scores['train_score'].mean())\n",
    "_d = pd.DataFrame()\n",
    "_d['ns'] = ns\n",
    "_d['f1'] = f1_test_scores\n",
    "_d.to_csv('cv_data/eta_test1.csv')\n",
    "_d = pd.DataFrame()\n",
    "_d['ns'] = ns\n",
    "_d['f1'] = f1_train_scores\n",
    "_d.to_csv('cv_data/eta_train1.csv')\n",
    "#'''\n",
    "_d = pd.read_csv('cv_data/eta_test1.csv', index_col=0)\n",
    "ns = _d['ns']\n",
    "f1_test_scores = _d['f1']\n",
    "_d = pd.read_csv('cv_data/eta_train1.csv', index_col=0)\n",
    "f1_train_scores = _d['f1']\n",
    "\n",
    "plt.plot(ns, f1_test_scores, label='test')\n",
    "plt.plot(ns, f1_train_scores, label='train')\n",
    "plt.xlabel('n_estimators')\n",
    "plt.ylabel('f1')\n",
    "plt.title('F1 score depends on neibors, val')\n",
    "plt.legend()\n",
    "plt.show()"
   ]
  },
  {
   "cell_type": "markdown",
   "metadata": {},
   "source": [
    "А теперь глубину"
   ]
  },
  {
   "cell_type": "code",
   "execution_count": 63,
   "metadata": {},
   "outputs": [
    {
     "data": {
      "image/png": "[encoded data removed]",
      "text/plain": [
       "<Figure size 432x288 with 1 Axes>"
      ]
     },
     "metadata": {
      "needs_background": "light"
     },
     "output_type": "display_data"
    }
   ],
   "source": [
    "#'''\n",
    "depths = np.linspace(5, 20, 16, dtype=int)\n",
    "f1_test_scores = []\n",
    "f1_train_scores = []\n",
    "for d in depths:\n",
    "    args = {'max_depth': d, 'learning_rate': 0.1, 'n_estimators': 10}\n",
    "    model = xgb.XGBClassifier(**args)\n",
    "    scores = cross_validate(model, x_train, y_train, cv=5, scoring=make_scorer(f1_score), return_train_score=True)\n",
    "    f1_test_scores.append(scores['test_score'].mean())\n",
    "    f1_train_scores.append(scores['train_score'].mean())\n",
    "_d = pd.DataFrame()\n",
    "_d['depths'] = depths\n",
    "_d['f1'] = f1_test_scores\n",
    "_d.to_csv('cv_data/eta_test2.csv')\n",
    "_d = pd.DataFrame()\n",
    "_d['depths'] = depths\n",
    "_d['f1'] = f1_train_scores\n",
    "_d.to_csv('cv_data/eta_train2.csv')\n",
    "#'''\n",
    "_d = pd.read_csv('cv_data/eta_test2.csv', index_col=0)\n",
    "depths = _d['depths']\n",
    "f1_test_scores = _d['f1']\n",
    "_d = pd.read_csv('cv_data/eta_train2.csv', index_col=0)\n",
    "f1_train_scores = _d['f1']\n",
    "\n",
    "plt.plot(depths, f1_test_scores, label='test')\n",
    "plt.plot(depths, f1_train_scores, label='train')\n",
    "plt.xlabel('depths')\n",
    "plt.ylabel('f1')\n",
    "plt.title('F1 score depends on neibors, val')\n",
    "plt.legend()\n",
    "plt.show()"
   ]
  },
  {
   "cell_type": "markdown",
   "metadata": {},
   "source": [
    "Соберём \"лучший\" набор параметров"
   ]
  },
  {
   "cell_type": "code",
   "execution_count": 64,
   "metadata": {},
   "outputs": [],
   "source": [
    "args = {'max_depth': 7, 'learning_rate': 0.1, 'n_estimators': 10}\n",
    "model = xgb.XGBClassifier(**args)"
   ]
  },
  {
   "cell_type": "code",
   "execution_count": 65,
   "metadata": {},
   "outputs": [],
   "source": [
    "y_test_hat = bst.predict(dtest)\n",
    "y_train_hat = bst.predict(dtrain)"
   ]
  },
  {
   "cell_type": "code",
   "execution_count": 67,
   "metadata": {},
   "outputs": [],
   "source": [
    "y_test_hat  = y_test_hat > 0.5  \n",
    "y_test_hat = y_test_hat.astype(int) \n",
    "\n",
    "y_train_hat  = y_train_hat > 0.5  \n",
    "y_train_hat = y_train_hat.astype(int)  "
   ]
  },
  {
   "cell_type": "code",
   "execution_count": 68,
   "metadata": {},
   "outputs": [
    {
     "name": "stdout",
     "output_type": "stream",
     "text": [
      "Test\n",
      "\tprecision=0.84\n",
      "\trecall   =0.72\n",
      "\tf1       =0.77\n",
      "Train\n",
      "\tprecision=0.90\n",
      "\trecall   =0.68\n",
      "\tf1       =0.77\n"
     ]
    }
   ],
   "source": [
    "pr, rec, f1, _ = precision_recall_fscore_support(y_test, y_test_hat, average='binary')\n",
    "print(f'Test\\n\\tprecision={pr:.2f}\\n\\trecall   ={rec:.2f}\\n\\tf1       ={f1:.2f}')\n",
    "pr, rec, f1, _ = precision_recall_fscore_support(y_train, y_train_hat, average='binary')\n",
    "print(f'Train\\n\\tprecision={pr:.2f}\\n\\trecall   ={rec:.2f}\\n\\tf1       ={f1:.2f}')"
   ]
  },
  {
   "cell_type": "markdown",
   "metadata": {},
   "source": [
    "Чучуть не дотягивает до случайных лесов, зато почт не переобучается"
   ]
  }
 ],
 "metadata": {
  "kernelspec": {
   "display_name": "Python 3",
   "language": "python",
   "name": "python3"
  },
  "language_info": {
   "codemirror_mode": {
    "name": "ipython",
    "version": 3
   },
   "file_extension": ".py",
   "mimetype": "text/x-python",
   "name": "python",
   "nbconvert_exporter": "python",
   "pygments_lexer": "ipython3",
   "version": "3.8.6"
  }
 },
 "nbformat": 4,
 "nbformat_minor": 4
}
